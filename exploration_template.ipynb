{
 "cells": [
  {
   "cell_type": "markdown",
   "metadata": {},
   "source": [
    "# Bay Wheels Trip Data Exploration\n",
    "\n",
    "## Preliminary Wrangling\n",
    "\n",
    "This document explores a dataset containing rental duration and attributes for approximately 296,000 bike rentals in January 2020 (https://www.lyft.com/bikes/bay-wheels/system-data) - '202001-baywheels-tripdata.csv.zip' ."
   ]
  },
  {
   "cell_type": "code",
   "execution_count": 93,
   "metadata": {},
   "outputs": [],
   "source": [
    "import pandas as pd\n",
    "import numpy as np\n",
    "import seaborn as sb\n",
    "import datetime\n",
    "import time\n",
    "import matplotlib.pyplot as plt \n",
    "\n",
    "%matplotlib inline"
   ]
  },
  {
   "cell_type": "code",
   "execution_count": 94,
   "metadata": {},
   "outputs": [
    {
     "name": "stderr",
     "output_type": "stream",
     "text": [
      "/Users/winnietong/anaconda3/lib/python3.7/site-packages/IPython/core/interactiveshell.py:3049: DtypeWarning: Columns (13,14) have mixed types. Specify dtype option on import or set low_memory=False.\n",
      "  interactivity=interactivity, compiler=compiler, result=result)\n"
     ]
    }
   ],
   "source": [
    "tripdata = pd.read_csv('202001-baywheels-tripdata.csv')"
   ]
  },
  {
   "cell_type": "code",
   "execution_count": 95,
   "metadata": {},
   "outputs": [
    {
     "data": {
      "text/html": [
       "<div>\n",
       "<style scoped>\n",
       "    .dataframe tbody tr th:only-of-type {\n",
       "        vertical-align: middle;\n",
       "    }\n",
       "\n",
       "    .dataframe tbody tr th {\n",
       "        vertical-align: top;\n",
       "    }\n",
       "\n",
       "    .dataframe thead th {\n",
       "        text-align: right;\n",
       "    }\n",
       "</style>\n",
       "<table border=\"1\" class=\"dataframe\">\n",
       "  <thead>\n",
       "    <tr style=\"text-align: right;\">\n",
       "      <th></th>\n",
       "      <th>duration_sec</th>\n",
       "      <th>start_time</th>\n",
       "      <th>end_time</th>\n",
       "      <th>start_station_id</th>\n",
       "      <th>start_station_name</th>\n",
       "      <th>start_station_latitude</th>\n",
       "      <th>start_station_longitude</th>\n",
       "      <th>end_station_id</th>\n",
       "      <th>end_station_name</th>\n",
       "      <th>end_station_latitude</th>\n",
       "      <th>end_station_longitude</th>\n",
       "      <th>bike_id</th>\n",
       "      <th>user_type</th>\n",
       "      <th>bike_share_for_all_trip</th>\n",
       "      <th>rental_access_method</th>\n",
       "    </tr>\n",
       "  </thead>\n",
       "  <tbody>\n",
       "    <tr>\n",
       "      <th>0</th>\n",
       "      <td>83118</td>\n",
       "      <td>2020-01-31 15:23:47.7330</td>\n",
       "      <td>2020-02-01 14:29:06.2630</td>\n",
       "      <td>400.0</td>\n",
       "      <td>Buchanan St at North Point St</td>\n",
       "      <td>37.804272</td>\n",
       "      <td>-122.433537</td>\n",
       "      <td>400.0</td>\n",
       "      <td>Buchanan St at North Point St</td>\n",
       "      <td>37.804272</td>\n",
       "      <td>-122.433537</td>\n",
       "      <td>13052</td>\n",
       "      <td>Customer</td>\n",
       "      <td>No</td>\n",
       "      <td>NaN</td>\n",
       "    </tr>\n",
       "    <tr>\n",
       "      <th>1</th>\n",
       "      <td>68239</td>\n",
       "      <td>2020-01-31 15:40:31.6160</td>\n",
       "      <td>2020-02-01 10:37:51.0000</td>\n",
       "      <td>99.0</td>\n",
       "      <td>Folsom St at 15th St</td>\n",
       "      <td>37.767037</td>\n",
       "      <td>-122.415443</td>\n",
       "      <td>99.0</td>\n",
       "      <td>Folsom St at 15th St</td>\n",
       "      <td>37.767037</td>\n",
       "      <td>-122.415443</td>\n",
       "      <td>12235</td>\n",
       "      <td>Subscriber</td>\n",
       "      <td>Yes</td>\n",
       "      <td>NaN</td>\n",
       "    </tr>\n",
       "    <tr>\n",
       "      <th>2</th>\n",
       "      <td>55407</td>\n",
       "      <td>2020-01-31 17:48:16.6350</td>\n",
       "      <td>2020-02-01 09:11:44.3170</td>\n",
       "      <td>197.0</td>\n",
       "      <td>El Embarcadero at Grand Ave</td>\n",
       "      <td>37.808848</td>\n",
       "      <td>-122.249680</td>\n",
       "      <td>197.0</td>\n",
       "      <td>El Embarcadero at Grand Ave</td>\n",
       "      <td>37.808848</td>\n",
       "      <td>-122.249680</td>\n",
       "      <td>12822</td>\n",
       "      <td>Customer</td>\n",
       "      <td>No</td>\n",
       "      <td>NaN</td>\n",
       "    </tr>\n",
       "    <tr>\n",
       "      <th>3</th>\n",
       "      <td>54929</td>\n",
       "      <td>2020-01-31 17:53:03.4130</td>\n",
       "      <td>2020-02-01 09:08:32.6340</td>\n",
       "      <td>197.0</td>\n",
       "      <td>El Embarcadero at Grand Ave</td>\n",
       "      <td>37.808848</td>\n",
       "      <td>-122.249680</td>\n",
       "      <td>197.0</td>\n",
       "      <td>El Embarcadero at Grand Ave</td>\n",
       "      <td>37.808848</td>\n",
       "      <td>-122.249680</td>\n",
       "      <td>11705</td>\n",
       "      <td>Customer</td>\n",
       "      <td>No</td>\n",
       "      <td>NaN</td>\n",
       "    </tr>\n",
       "    <tr>\n",
       "      <th>4</th>\n",
       "      <td>55700</td>\n",
       "      <td>2020-01-31 17:12:33.4600</td>\n",
       "      <td>2020-02-01 08:40:53.6460</td>\n",
       "      <td>12.0</td>\n",
       "      <td>Pier 1/2 at The Embarcadero</td>\n",
       "      <td>37.796389</td>\n",
       "      <td>-122.394586</td>\n",
       "      <td>371.0</td>\n",
       "      <td>Lombard St at Columbus Ave</td>\n",
       "      <td>37.802746</td>\n",
       "      <td>-122.413579</td>\n",
       "      <td>3673</td>\n",
       "      <td>Customer</td>\n",
       "      <td>No</td>\n",
       "      <td>NaN</td>\n",
       "    </tr>\n",
       "  </tbody>\n",
       "</table>\n",
       "</div>"
      ],
      "text/plain": [
       "   duration_sec                start_time                  end_time  \\\n",
       "0         83118  2020-01-31 15:23:47.7330  2020-02-01 14:29:06.2630   \n",
       "1         68239  2020-01-31 15:40:31.6160  2020-02-01 10:37:51.0000   \n",
       "2         55407  2020-01-31 17:48:16.6350  2020-02-01 09:11:44.3170   \n",
       "3         54929  2020-01-31 17:53:03.4130  2020-02-01 09:08:32.6340   \n",
       "4         55700  2020-01-31 17:12:33.4600  2020-02-01 08:40:53.6460   \n",
       "\n",
       "   start_station_id             start_station_name  start_station_latitude  \\\n",
       "0             400.0  Buchanan St at North Point St               37.804272   \n",
       "1              99.0           Folsom St at 15th St               37.767037   \n",
       "2             197.0    El Embarcadero at Grand Ave               37.808848   \n",
       "3             197.0    El Embarcadero at Grand Ave               37.808848   \n",
       "4              12.0    Pier 1/2 at The Embarcadero               37.796389   \n",
       "\n",
       "   start_station_longitude  end_station_id               end_station_name  \\\n",
       "0              -122.433537           400.0  Buchanan St at North Point St   \n",
       "1              -122.415443            99.0           Folsom St at 15th St   \n",
       "2              -122.249680           197.0    El Embarcadero at Grand Ave   \n",
       "3              -122.249680           197.0    El Embarcadero at Grand Ave   \n",
       "4              -122.394586           371.0     Lombard St at Columbus Ave   \n",
       "\n",
       "   end_station_latitude  end_station_longitude  bike_id   user_type  \\\n",
       "0             37.804272            -122.433537    13052    Customer   \n",
       "1             37.767037            -122.415443    12235  Subscriber   \n",
       "2             37.808848            -122.249680    12822    Customer   \n",
       "3             37.808848            -122.249680    11705    Customer   \n",
       "4             37.802746            -122.413579     3673    Customer   \n",
       "\n",
       "  bike_share_for_all_trip rental_access_method  \n",
       "0                      No                  NaN  \n",
       "1                     Yes                  NaN  \n",
       "2                      No                  NaN  \n",
       "3                      No                  NaN  \n",
       "4                      No                  NaN  "
      ]
     },
     "execution_count": 95,
     "metadata": {},
     "output_type": "execute_result"
    }
   ],
   "source": [
    "tripdata.head()"
   ]
  },
  {
   "cell_type": "code",
   "execution_count": 96,
   "metadata": {},
   "outputs": [
    {
     "name": "stdout",
     "output_type": "stream",
     "text": [
      "<class 'pandas.core.frame.DataFrame'>\n",
      "RangeIndex: 295854 entries, 0 to 295853\n",
      "Data columns (total 15 columns):\n",
      "duration_sec               295854 non-null int64\n",
      "start_time                 295854 non-null object\n",
      "end_time                   295854 non-null object\n",
      "start_station_id           146286 non-null float64\n",
      "start_station_name         146866 non-null object\n",
      "start_station_latitude     295854 non-null float64\n",
      "start_station_longitude    295854 non-null float64\n",
      "end_station_id             145934 non-null float64\n",
      "end_station_name           146511 non-null object\n",
      "end_station_latitude       295854 non-null float64\n",
      "end_station_longitude      295854 non-null float64\n",
      "bike_id                    295854 non-null int64\n",
      "user_type                  295854 non-null object\n",
      "bike_share_for_all_trip    110108 non-null object\n",
      "rental_access_method       185746 non-null object\n",
      "dtypes: float64(6), int64(2), object(7)\n",
      "memory usage: 33.9+ MB\n"
     ]
    }
   ],
   "source": [
    "\n",
    "tripdata.info()"
   ]
  },
  {
   "cell_type": "code",
   "execution_count": 97,
   "metadata": {},
   "outputs": [
    {
     "data": {
      "text/html": [
       "<div>\n",
       "<style scoped>\n",
       "    .dataframe tbody tr th:only-of-type {\n",
       "        vertical-align: middle;\n",
       "    }\n",
       "\n",
       "    .dataframe tbody tr th {\n",
       "        vertical-align: top;\n",
       "    }\n",
       "\n",
       "    .dataframe thead th {\n",
       "        text-align: right;\n",
       "    }\n",
       "</style>\n",
       "<table border=\"1\" class=\"dataframe\">\n",
       "  <thead>\n",
       "    <tr style=\"text-align: right;\">\n",
       "      <th></th>\n",
       "      <th>duration_sec</th>\n",
       "      <th>start_station_id</th>\n",
       "      <th>start_station_latitude</th>\n",
       "      <th>start_station_longitude</th>\n",
       "      <th>end_station_id</th>\n",
       "      <th>end_station_latitude</th>\n",
       "      <th>end_station_longitude</th>\n",
       "      <th>bike_id</th>\n",
       "    </tr>\n",
       "  </thead>\n",
       "  <tbody>\n",
       "    <tr>\n",
       "      <th>count</th>\n",
       "      <td>295854.000000</td>\n",
       "      <td>146286.000000</td>\n",
       "      <td>295854.000000</td>\n",
       "      <td>295854.000000</td>\n",
       "      <td>145934.000000</td>\n",
       "      <td>295854.000000</td>\n",
       "      <td>295854.000000</td>\n",
       "      <td>295854.00000</td>\n",
       "    </tr>\n",
       "    <tr>\n",
       "      <th>mean</th>\n",
       "      <td>780.473193</td>\n",
       "      <td>168.900879</td>\n",
       "      <td>37.751277</td>\n",
       "      <td>-122.357866</td>\n",
       "      <td>161.061788</td>\n",
       "      <td>37.751261</td>\n",
       "      <td>-122.356994</td>\n",
       "      <td>321533.84539</td>\n",
       "    </tr>\n",
       "    <tr>\n",
       "      <th>std</th>\n",
       "      <td>2037.786317</td>\n",
       "      <td>141.956388</td>\n",
       "      <td>0.228337</td>\n",
       "      <td>0.650796</td>\n",
       "      <td>140.766154</td>\n",
       "      <td>0.238642</td>\n",
       "      <td>0.688512</td>\n",
       "      <td>307015.31534</td>\n",
       "    </tr>\n",
       "    <tr>\n",
       "      <th>min</th>\n",
       "      <td>60.000000</td>\n",
       "      <td>3.000000</td>\n",
       "      <td>0.000000</td>\n",
       "      <td>-122.513871</td>\n",
       "      <td>3.000000</td>\n",
       "      <td>0.000000</td>\n",
       "      <td>-122.513847</td>\n",
       "      <td>12.00000</td>\n",
       "    </tr>\n",
       "    <tr>\n",
       "      <th>25%</th>\n",
       "      <td>369.000000</td>\n",
       "      <td>53.000000</td>\n",
       "      <td>37.766214</td>\n",
       "      <td>-122.419481</td>\n",
       "      <td>43.000000</td>\n",
       "      <td>37.766376</td>\n",
       "      <td>-122.418306</td>\n",
       "      <td>11328.00000</td>\n",
       "    </tr>\n",
       "    <tr>\n",
       "      <th>50%</th>\n",
       "      <td>588.000000</td>\n",
       "      <td>120.000000</td>\n",
       "      <td>37.777158</td>\n",
       "      <td>-122.403234</td>\n",
       "      <td>113.000000</td>\n",
       "      <td>37.777370</td>\n",
       "      <td>-122.402717</td>\n",
       "      <td>279974.00000</td>\n",
       "    </tr>\n",
       "    <tr>\n",
       "      <th>75%</th>\n",
       "      <td>912.000000</td>\n",
       "      <td>263.000000</td>\n",
       "      <td>37.790102</td>\n",
       "      <td>-122.392450</td>\n",
       "      <td>250.000000</td>\n",
       "      <td>37.790492</td>\n",
       "      <td>-122.392546</td>\n",
       "      <td>545607.00000</td>\n",
       "    </tr>\n",
       "    <tr>\n",
       "      <th>max</th>\n",
       "      <td>811077.000000</td>\n",
       "      <td>506.000000</td>\n",
       "      <td>37.880222</td>\n",
       "      <td>0.000000</td>\n",
       "      <td>506.000000</td>\n",
       "      <td>37.927622</td>\n",
       "      <td>0.000000</td>\n",
       "      <td>999952.00000</td>\n",
       "    </tr>\n",
       "  </tbody>\n",
       "</table>\n",
       "</div>"
      ],
      "text/plain": [
       "        duration_sec  start_station_id  start_station_latitude  \\\n",
       "count  295854.000000     146286.000000           295854.000000   \n",
       "mean      780.473193        168.900879               37.751277   \n",
       "std      2037.786317        141.956388                0.228337   \n",
       "min        60.000000          3.000000                0.000000   \n",
       "25%       369.000000         53.000000               37.766214   \n",
       "50%       588.000000        120.000000               37.777158   \n",
       "75%       912.000000        263.000000               37.790102   \n",
       "max    811077.000000        506.000000               37.880222   \n",
       "\n",
       "       start_station_longitude  end_station_id  end_station_latitude  \\\n",
       "count            295854.000000   145934.000000         295854.000000   \n",
       "mean               -122.357866      161.061788             37.751261   \n",
       "std                   0.650796      140.766154              0.238642   \n",
       "min                -122.513871        3.000000              0.000000   \n",
       "25%                -122.419481       43.000000             37.766376   \n",
       "50%                -122.403234      113.000000             37.777370   \n",
       "75%                -122.392450      250.000000             37.790492   \n",
       "max                   0.000000      506.000000             37.927622   \n",
       "\n",
       "       end_station_longitude       bike_id  \n",
       "count          295854.000000  295854.00000  \n",
       "mean             -122.356994  321533.84539  \n",
       "std                 0.688512  307015.31534  \n",
       "min              -122.513847      12.00000  \n",
       "25%              -122.418306   11328.00000  \n",
       "50%              -122.402717  279974.00000  \n",
       "75%              -122.392546  545607.00000  \n",
       "max                 0.000000  999952.00000  "
      ]
     },
     "execution_count": 97,
     "metadata": {},
     "output_type": "execute_result"
    }
   ],
   "source": [
    "tripdata.describe() # numerical_variables "
   ]
  },
  {
   "cell_type": "code",
   "execution_count": 98,
   "metadata": {},
   "outputs": [
    {
     "name": "stdout",
     "output_type": "stream",
     "text": [
      "(295854, 15)\n"
     ]
    }
   ],
   "source": [
    "print(tripdata.shape)"
   ]
  },
  {
   "cell_type": "code",
   "execution_count": 99,
   "metadata": {},
   "outputs": [
    {
     "data": {
      "text/plain": [
       "Subscriber    170988\n",
       "Customer      124866\n",
       "Name: user_type, dtype: int64"
      ]
     },
     "execution_count": 99,
     "metadata": {},
     "output_type": "execute_result"
    }
   ],
   "source": [
    "tripdata.user_type.value_counts() ##maybe can look at the duration travelled vs user_type"
   ]
  },
  {
   "cell_type": "code",
   "execution_count": 100,
   "metadata": {},
   "outputs": [
    {
     "data": {
      "text/plain": [
       "app        171751\n",
       "clipper     13995\n",
       "Name: rental_access_method, dtype: int64"
      ]
     },
     "execution_count": 100,
     "metadata": {},
     "output_type": "execute_result"
    }
   ],
   "source": [
    "tripdata.rental_access_method.value_counts() ## can be interesting data but has lot of nulls"
   ]
  },
  {
   "cell_type": "markdown",
   "metadata": {},
   "source": [
    "### What is the structure of your dataset?\n",
    "\n",
    "There are 295,854 bike rental data in the 2020-01 Bay Wheel dataset with 8 features, which are duration, start time, end time, location of pick-up, location of drop-off, customer type, bike share for all trips and rental access method. Most variables are categorical variable, with a few discrete variables. \n",
    "\n",
    "\n",
    "### What is/are the main feature(s) of interest in your dataset?\n",
    "\n",
    "I'm most interested in figuring out what features are best for predicting the duration of the bike rental in the dataset.\n",
    "\n",
    "### What features in the dataset do you think will help support your investigation into your feature(s) of interest?\n",
    "\n",
    "I expect the type of users, the day of the week and hour of the week will have the strongest effect on the count and duration of rental: users who are subscribers will hire more frequently as they are regular users. Week days and peak hours (morning and late evening) should have more renters. Users who return the bike at the same depot would take a longer time. \n",
    "\n",
    "\n",
    "## Univariate Exploration\n",
    "\n",
    "I'll start by looking at the distribution of the main variable of interest: **duration_sec**."
   ]
  },
  {
   "cell_type": "code",
   "execution_count": 101,
   "metadata": {},
   "outputs": [
    {
     "data": {
      "text/plain": [
       "count    295854.000000\n",
       "mean        780.473193\n",
       "std        2037.786317\n",
       "min          60.000000\n",
       "25%         369.000000\n",
       "50%         588.000000\n",
       "75%         912.000000\n",
       "max      811077.000000\n",
       "Name: duration_sec, dtype: float64"
      ]
     },
     "execution_count": 101,
     "metadata": {},
     "output_type": "execute_result"
    }
   ],
   "source": [
    "tripdata.duration_sec.describe()"
   ]
  },
  {
   "cell_type": "markdown",
   "metadata": {},
   "source": [
    ">Rather than looking at the duration in seconds, I am going to transform it to minutes or hour for easier interpretation. "
   ]
  },
  {
   "cell_type": "code",
   "execution_count": 102,
   "metadata": {},
   "outputs": [
    {
     "data": {
      "text/html": [
       "<div>\n",
       "<style scoped>\n",
       "    .dataframe tbody tr th:only-of-type {\n",
       "        vertical-align: middle;\n",
       "    }\n",
       "\n",
       "    .dataframe tbody tr th {\n",
       "        vertical-align: top;\n",
       "    }\n",
       "\n",
       "    .dataframe thead th {\n",
       "        text-align: right;\n",
       "    }\n",
       "</style>\n",
       "<table border=\"1\" class=\"dataframe\">\n",
       "  <thead>\n",
       "    <tr style=\"text-align: right;\">\n",
       "      <th></th>\n",
       "      <th>duration_sec</th>\n",
       "      <th>duration_min</th>\n",
       "      <th>duration_hr</th>\n",
       "    </tr>\n",
       "  </thead>\n",
       "  <tbody>\n",
       "    <tr>\n",
       "      <th>count</th>\n",
       "      <td>295854.000000</td>\n",
       "      <td>295854.000000</td>\n",
       "      <td>295854.000000</td>\n",
       "    </tr>\n",
       "    <tr>\n",
       "      <th>mean</th>\n",
       "      <td>780.473193</td>\n",
       "      <td>13.007887</td>\n",
       "      <td>0.216798</td>\n",
       "    </tr>\n",
       "    <tr>\n",
       "      <th>std</th>\n",
       "      <td>2037.786317</td>\n",
       "      <td>33.963105</td>\n",
       "      <td>0.566052</td>\n",
       "    </tr>\n",
       "    <tr>\n",
       "      <th>min</th>\n",
       "      <td>60.000000</td>\n",
       "      <td>1.000000</td>\n",
       "      <td>0.016667</td>\n",
       "    </tr>\n",
       "    <tr>\n",
       "      <th>25%</th>\n",
       "      <td>369.000000</td>\n",
       "      <td>6.150000</td>\n",
       "      <td>0.102500</td>\n",
       "    </tr>\n",
       "    <tr>\n",
       "      <th>50%</th>\n",
       "      <td>588.000000</td>\n",
       "      <td>9.800000</td>\n",
       "      <td>0.163333</td>\n",
       "    </tr>\n",
       "    <tr>\n",
       "      <th>75%</th>\n",
       "      <td>912.000000</td>\n",
       "      <td>15.200000</td>\n",
       "      <td>0.253333</td>\n",
       "    </tr>\n",
       "    <tr>\n",
       "      <th>max</th>\n",
       "      <td>811077.000000</td>\n",
       "      <td>13517.950000</td>\n",
       "      <td>225.299167</td>\n",
       "    </tr>\n",
       "  </tbody>\n",
       "</table>\n",
       "</div>"
      ],
      "text/plain": [
       "        duration_sec   duration_min    duration_hr\n",
       "count  295854.000000  295854.000000  295854.000000\n",
       "mean      780.473193      13.007887       0.216798\n",
       "std      2037.786317      33.963105       0.566052\n",
       "min        60.000000       1.000000       0.016667\n",
       "25%       369.000000       6.150000       0.102500\n",
       "50%       588.000000       9.800000       0.163333\n",
       "75%       912.000000      15.200000       0.253333\n",
       "max    811077.000000   13517.950000     225.299167"
      ]
     },
     "execution_count": 102,
     "metadata": {},
     "output_type": "execute_result"
    }
   ],
   "source": [
    "tripdata['duration_min'] = tripdata['duration_sec']/60\n",
    "tripdata['duration_hr'] = tripdata['duration_min']/60\n",
    "tripdata[['duration_sec','duration_min','duration_hr']].describe()"
   ]
  },
  {
   "cell_type": "markdown",
   "metadata": {},
   "source": [
    ">After investigating the duration period, I noticed that the maximum number is ridiculously high comparing to the data in differeny quartiles. There can be some outliers there so when I investigate I should be more careful not to exclude outliers. I also decided I would go with using **minute** as the perimenter."
   ]
  },
  {
   "cell_type": "code",
   "execution_count": 103,
   "metadata": {},
   "outputs": [
    {
     "data": {
      "text/plain": [
       "1006"
      ]
     },
     "execution_count": 103,
     "metadata": {},
     "output_type": "execute_result"
    }
   ],
   "source": [
    "# I want to see what the size of the outliers\n",
    "tripdata[tripdata.duration_min > 100].shape[0]\n"
   ]
  },
  {
   "cell_type": "markdown",
   "metadata": {},
   "source": [
    ">Only 1006. That's good because even if I exclude the data, I am not truncating a lot of information. I am going to create a new table called *outlier_min* to capture this data for futher analysis later."
   ]
  },
  {
   "cell_type": "code",
   "execution_count": 12,
   "metadata": {},
   "outputs": [
    {
     "data": {
      "text/html": [
       "<div>\n",
       "<style scoped>\n",
       "    .dataframe tbody tr th:only-of-type {\n",
       "        vertical-align: middle;\n",
       "    }\n",
       "\n",
       "    .dataframe tbody tr th {\n",
       "        vertical-align: top;\n",
       "    }\n",
       "\n",
       "    .dataframe thead th {\n",
       "        text-align: right;\n",
       "    }\n",
       "</style>\n",
       "<table border=\"1\" class=\"dataframe\">\n",
       "  <thead>\n",
       "    <tr style=\"text-align: right;\">\n",
       "      <th></th>\n",
       "      <th>duration_sec</th>\n",
       "      <th>start_time</th>\n",
       "      <th>end_time</th>\n",
       "      <th>start_station_id</th>\n",
       "      <th>start_station_name</th>\n",
       "      <th>start_station_latitude</th>\n",
       "      <th>start_station_longitude</th>\n",
       "      <th>end_station_id</th>\n",
       "      <th>end_station_name</th>\n",
       "      <th>end_station_latitude</th>\n",
       "      <th>end_station_longitude</th>\n",
       "      <th>bike_id</th>\n",
       "      <th>user_type</th>\n",
       "      <th>bike_share_for_all_trip</th>\n",
       "      <th>rental_access_method</th>\n",
       "      <th>duration_min</th>\n",
       "      <th>duration_hr</th>\n",
       "    </tr>\n",
       "  </thead>\n",
       "  <tbody>\n",
       "    <tr>\n",
       "      <th>0</th>\n",
       "      <td>83118</td>\n",
       "      <td>2020-01-31 15:23:47.7330</td>\n",
       "      <td>2020-02-01 14:29:06.2630</td>\n",
       "      <td>400.0</td>\n",
       "      <td>Buchanan St at North Point St</td>\n",
       "      <td>37.804272</td>\n",
       "      <td>-122.433537</td>\n",
       "      <td>400.0</td>\n",
       "      <td>Buchanan St at North Point St</td>\n",
       "      <td>37.804272</td>\n",
       "      <td>-122.433537</td>\n",
       "      <td>13052</td>\n",
       "      <td>Customer</td>\n",
       "      <td>No</td>\n",
       "      <td>NaN</td>\n",
       "      <td>1385.300000</td>\n",
       "      <td>23.088333</td>\n",
       "    </tr>\n",
       "    <tr>\n",
       "      <th>1</th>\n",
       "      <td>68239</td>\n",
       "      <td>2020-01-31 15:40:31.6160</td>\n",
       "      <td>2020-02-01 10:37:51.0000</td>\n",
       "      <td>99.0</td>\n",
       "      <td>Folsom St at 15th St</td>\n",
       "      <td>37.767037</td>\n",
       "      <td>-122.415443</td>\n",
       "      <td>99.0</td>\n",
       "      <td>Folsom St at 15th St</td>\n",
       "      <td>37.767037</td>\n",
       "      <td>-122.415443</td>\n",
       "      <td>12235</td>\n",
       "      <td>Subscriber</td>\n",
       "      <td>Yes</td>\n",
       "      <td>NaN</td>\n",
       "      <td>1137.316667</td>\n",
       "      <td>18.955278</td>\n",
       "    </tr>\n",
       "    <tr>\n",
       "      <th>2</th>\n",
       "      <td>55407</td>\n",
       "      <td>2020-01-31 17:48:16.6350</td>\n",
       "      <td>2020-02-01 09:11:44.3170</td>\n",
       "      <td>197.0</td>\n",
       "      <td>El Embarcadero at Grand Ave</td>\n",
       "      <td>37.808848</td>\n",
       "      <td>-122.249680</td>\n",
       "      <td>197.0</td>\n",
       "      <td>El Embarcadero at Grand Ave</td>\n",
       "      <td>37.808848</td>\n",
       "      <td>-122.249680</td>\n",
       "      <td>12822</td>\n",
       "      <td>Customer</td>\n",
       "      <td>No</td>\n",
       "      <td>NaN</td>\n",
       "      <td>923.450000</td>\n",
       "      <td>15.390833</td>\n",
       "    </tr>\n",
       "    <tr>\n",
       "      <th>3</th>\n",
       "      <td>54929</td>\n",
       "      <td>2020-01-31 17:53:03.4130</td>\n",
       "      <td>2020-02-01 09:08:32.6340</td>\n",
       "      <td>197.0</td>\n",
       "      <td>El Embarcadero at Grand Ave</td>\n",
       "      <td>37.808848</td>\n",
       "      <td>-122.249680</td>\n",
       "      <td>197.0</td>\n",
       "      <td>El Embarcadero at Grand Ave</td>\n",
       "      <td>37.808848</td>\n",
       "      <td>-122.249680</td>\n",
       "      <td>11705</td>\n",
       "      <td>Customer</td>\n",
       "      <td>No</td>\n",
       "      <td>NaN</td>\n",
       "      <td>915.483333</td>\n",
       "      <td>15.258056</td>\n",
       "    </tr>\n",
       "    <tr>\n",
       "      <th>4</th>\n",
       "      <td>55700</td>\n",
       "      <td>2020-01-31 17:12:33.4600</td>\n",
       "      <td>2020-02-01 08:40:53.6460</td>\n",
       "      <td>12.0</td>\n",
       "      <td>Pier 1/2 at The Embarcadero</td>\n",
       "      <td>37.796389</td>\n",
       "      <td>-122.394586</td>\n",
       "      <td>371.0</td>\n",
       "      <td>Lombard St at Columbus Ave</td>\n",
       "      <td>37.802746</td>\n",
       "      <td>-122.413579</td>\n",
       "      <td>3673</td>\n",
       "      <td>Customer</td>\n",
       "      <td>No</td>\n",
       "      <td>NaN</td>\n",
       "      <td>928.333333</td>\n",
       "      <td>15.472222</td>\n",
       "    </tr>\n",
       "  </tbody>\n",
       "</table>\n",
       "</div>"
      ],
      "text/plain": [
       "   duration_sec                start_time                  end_time  \\\n",
       "0         83118  2020-01-31 15:23:47.7330  2020-02-01 14:29:06.2630   \n",
       "1         68239  2020-01-31 15:40:31.6160  2020-02-01 10:37:51.0000   \n",
       "2         55407  2020-01-31 17:48:16.6350  2020-02-01 09:11:44.3170   \n",
       "3         54929  2020-01-31 17:53:03.4130  2020-02-01 09:08:32.6340   \n",
       "4         55700  2020-01-31 17:12:33.4600  2020-02-01 08:40:53.6460   \n",
       "\n",
       "   start_station_id             start_station_name  start_station_latitude  \\\n",
       "0             400.0  Buchanan St at North Point St               37.804272   \n",
       "1              99.0           Folsom St at 15th St               37.767037   \n",
       "2             197.0    El Embarcadero at Grand Ave               37.808848   \n",
       "3             197.0    El Embarcadero at Grand Ave               37.808848   \n",
       "4              12.0    Pier 1/2 at The Embarcadero               37.796389   \n",
       "\n",
       "   start_station_longitude  end_station_id               end_station_name  \\\n",
       "0              -122.433537           400.0  Buchanan St at North Point St   \n",
       "1              -122.415443            99.0           Folsom St at 15th St   \n",
       "2              -122.249680           197.0    El Embarcadero at Grand Ave   \n",
       "3              -122.249680           197.0    El Embarcadero at Grand Ave   \n",
       "4              -122.394586           371.0     Lombard St at Columbus Ave   \n",
       "\n",
       "   end_station_latitude  end_station_longitude  bike_id   user_type  \\\n",
       "0             37.804272            -122.433537    13052    Customer   \n",
       "1             37.767037            -122.415443    12235  Subscriber   \n",
       "2             37.808848            -122.249680    12822    Customer   \n",
       "3             37.808848            -122.249680    11705    Customer   \n",
       "4             37.802746            -122.413579     3673    Customer   \n",
       "\n",
       "  bike_share_for_all_trip rental_access_method  duration_min  duration_hr  \n",
       "0                      No                  NaN   1385.300000    23.088333  \n",
       "1                     Yes                  NaN   1137.316667    18.955278  \n",
       "2                      No                  NaN    923.450000    15.390833  \n",
       "3                      No                  NaN    915.483333    15.258056  \n",
       "4                      No                  NaN    928.333333    15.472222  "
      ]
     },
     "execution_count": 12,
     "metadata": {},
     "output_type": "execute_result"
    }
   ],
   "source": [
    "outlier_min = tripdata[tripdata.duration_min > 100]\n",
    "outlier_min.head()"
   ]
  },
  {
   "cell_type": "code",
   "execution_count": 13,
   "metadata": {},
   "outputs": [],
   "source": [
    "tripdata_cleaned = tripdata.copy()"
   ]
  },
  {
   "cell_type": "code",
   "execution_count": 14,
   "metadata": {},
   "outputs": [],
   "source": [
    "tripdata_cleaned = tripdata_cleaned[tripdata_cleaned.duration_min <= 100]"
   ]
  },
  {
   "cell_type": "code",
   "execution_count": 104,
   "metadata": {},
   "outputs": [
    {
     "data": {
      "text/plain": [
       "(294848, 22)"
      ]
     },
     "execution_count": 104,
     "metadata": {},
     "output_type": "execute_result"
    }
   ],
   "source": [
    "#Checking the % of outliers vs the full dataset\n",
    "tripdata_cleaned.shape"
   ]
  },
  {
   "cell_type": "code",
   "execution_count": 16,
   "metadata": {},
   "outputs": [
    {
     "data": {
      "text/plain": [
       "1006"
      ]
     },
     "execution_count": 16,
     "metadata": {},
     "output_type": "execute_result"
    }
   ],
   "source": [
    "295854-294848 #checking that I get the data that I expected"
   ]
  },
  {
   "cell_type": "code",
   "execution_count": 105,
   "metadata": {},
   "outputs": [
    {
     "data": {
      "text/plain": [
       "count    294848.000000\n",
       "mean         12.146997\n",
       "std           9.722978\n",
       "min           1.000000\n",
       "25%           6.133333\n",
       "50%           9.783333\n",
       "75%          15.116667\n",
       "max          99.933333\n",
       "Name: duration_min, dtype: float64"
      ]
     },
     "execution_count": 105,
     "metadata": {},
     "output_type": "execute_result"
    }
   ],
   "source": [
    "# Now I wanna see some general stats \n",
    "tripdata_cleaned['duration_min'].describe()"
   ]
  },
  {
   "cell_type": "markdown",
   "metadata": {},
   "source": [
    "#### I am going to use histogram to see the distrubtion of duration of all the bike rentals in this dataset."
   ]
  },
  {
   "cell_type": "code",
   "execution_count": 18,
   "metadata": {},
   "outputs": [
    {
     "data": {
      "image/png": "[encoded data removed]",
      "text/plain": [
       "<Figure size 432x288 with 1 Axes>"
      ]
     },
     "metadata": {
      "needs_background": "light"
     },
     "output_type": "display_data"
    }
   ],
   "source": [
    "binsize = np.arange(0,100+5,5)\n",
    "plt.hist(data=tripdata_cleaned, x='duration_min',bins = binsize,alpha = 0.7)\n",
    "plt.title('Distribution of bike usage in minutes ')\n",
    "plt.xlabel('Duration (min)')\n",
    "plt.ylabel('Count')\n",
    "plt.show()"
   ]
  },
  {
   "cell_type": "markdown",
   "metadata": {},
   "source": [
    ">This looks like it is a unimodal graph, and the data is hightly skewed to the right with a long tail on the right. I am going to try a log scaling and see how whether I can find something interesting. "
   ]
  },
  {
   "cell_type": "code",
   "execution_count": 19,
   "metadata": {},
   "outputs": [],
   "source": [
    "log_min = np.log10(tripdata_cleaned['duration_min'])"
   ]
  },
  {
   "cell_type": "code",
   "execution_count": 20,
   "metadata": {},
   "outputs": [
    {
     "data": {
      "text/plain": [
       "count    294848.000000\n",
       "mean          0.980328\n",
       "std           0.301891\n",
       "min           0.000000\n",
       "25%           0.787697\n",
       "50%           0.990487\n",
       "75%           1.179456\n",
       "max           1.999710\n",
       "Name: duration_min, dtype: float64"
      ]
     },
     "execution_count": 20,
     "metadata": {},
     "output_type": "execute_result"
    }
   ],
   "source": [
    "log_min.describe()"
   ]
  },
  {
   "cell_type": "code",
   "execution_count": 21,
   "metadata": {},
   "outputs": [
    {
     "data": {
      "image/png": "[encoded data removed]",
      "text/plain": [
       "<Figure size 432x288 with 1 Axes>"
      ]
     },
     "metadata": {
      "needs_background": "light"
     },
     "output_type": "display_data"
    }
   ],
   "source": [
    "log_binsize = 10**np.arange(0,np.log10(tripdata_cleaned['duration_min']).max() +0.2,0.03)\n",
    "plt.hist(data=tripdata_cleaned, x='duration_min',bins = log_binsize,alpha = 0.7)\n",
    "plt.title('Distribution of bike usage in minutes ')\n",
    "plt.xscale('log')\n",
    "x_tick=[1,2,3,5,7,10,15,20,30,50,100]\n",
    "plt.xticks(x_tick,x_tick)\n",
    "plt.xlabel('Duration (min)')\n",
    "plt.axvline(x=6.15, color='r') ## This line shows upperbond of data - 25% quartile\n",
    "plt.axvline(x=15.2, color='r') ## This line shows upperbond of data - 75% quartile\n",
    "plt.ylabel('Count')\n",
    "plt.show()"
   ]
  },
  {
   "cell_type": "markdown",
   "metadata": {},
   "source": [
    ">After converting the data using log scale, the distribution became to much clearer. The data showed a normal distrubtion with its mean being around 10 minutes. There was a little increae at around 60 minutes. I wondered whether they were some odd data. "
   ]
  },
  {
   "cell_type": "markdown",
   "metadata": {},
   "source": [
    "#### Now I am moving on to some categorical variables: **user_type, rental_access_method and bike_share_for_all_trip**"
   ]
  },
  {
   "cell_type": "code",
   "execution_count": 23,
   "metadata": {},
   "outputs": [
    {
     "data": {
      "image/png": "[encoded data removed]",
      "text/plain": [
       "<Figure size 432x288 with 1 Axes>"
      ]
     },
     "metadata": {
      "needs_background": "light"
     },
     "output_type": "display_data"
    }
   ],
   "source": [
    "sb.countplot(data=tripdata_cleaned, x='user_type')\n",
    "plt.title('Split of users by user type')\n",
    "plt.xlabel('User Type')\n",
    "plt.ylabel('Count')\n",
    "# add annotations\n",
    "n_points = tripdata_cleaned.shape[0]\n",
    "utype_counts = tripdata_cleaned['user_type'].value_counts()\n",
    "locs, labels = plt.xticks() # get the current tick locations and labels\n",
    "\n",
    "# loop through each pair of locations and labels\n",
    "for loc, label in zip(locs, labels):\n",
    "\n",
    "    # get the text property for the label to get the correct count\n",
    "    count = utype_counts[label.get_text()]\n",
    "    pct_string = '{:0.1f}%'.format(100*count/n_points)\n",
    "\n",
    "    # print the annotation just below the top of the bar\n",
    "    plt.text(loc, count-8, pct_string, ha = 'center', color = 'black')\n",
    "\n",
    "plt.show()"
   ]
  },
  {
   "cell_type": "markdown",
   "metadata": {},
   "source": [
    ">There were more subscribers than customers, the splits were 58% and 42% respectively. "
   ]
  },
  {
   "cell_type": "markdown",
   "metadata": {},
   "source": [
    "#### I know that there are a lot of nulls in **rental_access_method** column. I want to analyse the data nevertheless. To ensure I am not going to mess up the original dataset, I will create a copy for this specific analysis."
   ]
  },
  {
   "cell_type": "code",
   "execution_count": 111,
   "metadata": {},
   "outputs": [],
   "source": [
    "#I might need to truncate some data as I examine this category so I am going to create a copy of the original dataset\n",
    "tripdata_cleaned_ra = tripdata_cleaned.copy()"
   ]
  },
  {
   "cell_type": "code",
   "execution_count": 112,
   "metadata": {},
   "outputs": [],
   "source": [
    "#I am going to use boolean to filter the data that I need\n",
    "tripdata_cleaned_ra['ram'] = tripdata_cleaned_ra['rental_access_method'].isin(['app','clipper'])"
   ]
  },
  {
   "cell_type": "code",
   "execution_count": 116,
   "metadata": {},
   "outputs": [
    {
     "data": {
      "text/html": [
       "<div>\n",
       "<style scoped>\n",
       "    .dataframe tbody tr th:only-of-type {\n",
       "        vertical-align: middle;\n",
       "    }\n",
       "\n",
       "    .dataframe tbody tr th {\n",
       "        vertical-align: top;\n",
       "    }\n",
       "\n",
       "    .dataframe thead th {\n",
       "        text-align: right;\n",
       "    }\n",
       "</style>\n",
       "<table border=\"1\" class=\"dataframe\">\n",
       "  <thead>\n",
       "    <tr style=\"text-align: right;\">\n",
       "      <th></th>\n",
       "      <th>duration_sec</th>\n",
       "      <th>start_time</th>\n",
       "      <th>end_time</th>\n",
       "      <th>start_station_id</th>\n",
       "      <th>start_station_name</th>\n",
       "      <th>start_station_latitude</th>\n",
       "      <th>start_station_longitude</th>\n",
       "      <th>end_station_id</th>\n",
       "      <th>end_station_name</th>\n",
       "      <th>end_station_latitude</th>\n",
       "      <th>...</th>\n",
       "      <th>bike_share_for_all_trip</th>\n",
       "      <th>rental_access_method</th>\n",
       "      <th>duration_min</th>\n",
       "      <th>duration_hr</th>\n",
       "      <th>start_hour</th>\n",
       "      <th>start_combo</th>\n",
       "      <th>end_combo</th>\n",
       "      <th>return_trip</th>\n",
       "      <th>week_day</th>\n",
       "      <th>ram</th>\n",
       "    </tr>\n",
       "  </thead>\n",
       "  <tbody>\n",
       "    <tr>\n",
       "      <th>110108</th>\n",
       "      <td>794</td>\n",
       "      <td>2020-01-28 20:50:28</td>\n",
       "      <td>2020-01-28 21:03:43</td>\n",
       "      <td>449.0</td>\n",
       "      <td>16th Depot Bike Fleet Station</td>\n",
       "      <td>0.0</td>\n",
       "      <td>0.0</td>\n",
       "      <td>NaN</td>\n",
       "      <td>NaN</td>\n",
       "      <td>37.734992</td>\n",
       "      <td>...</td>\n",
       "      <td>NaN</td>\n",
       "      <td>app</td>\n",
       "      <td>13.233333</td>\n",
       "      <td>0.220556</td>\n",
       "      <td>20</td>\n",
       "      <td>0.0,0.0</td>\n",
       "      <td>37.7349916667,-122.39091200000001</td>\n",
       "      <td>False</td>\n",
       "      <td>1</td>\n",
       "      <td>True</td>\n",
       "    </tr>\n",
       "    <tr>\n",
       "      <th>110109</th>\n",
       "      <td>734</td>\n",
       "      <td>2020-01-22 20:49:20</td>\n",
       "      <td>2020-01-22 21:01:34</td>\n",
       "      <td>449.0</td>\n",
       "      <td>16th Depot Bike Fleet Station</td>\n",
       "      <td>0.0</td>\n",
       "      <td>0.0</td>\n",
       "      <td>NaN</td>\n",
       "      <td>NaN</td>\n",
       "      <td>37.735049</td>\n",
       "      <td>...</td>\n",
       "      <td>NaN</td>\n",
       "      <td>app</td>\n",
       "      <td>12.233333</td>\n",
       "      <td>0.203889</td>\n",
       "      <td>20</td>\n",
       "      <td>0.0,0.0</td>\n",
       "      <td>37.7350488333,-122.3912866667</td>\n",
       "      <td>False</td>\n",
       "      <td>2</td>\n",
       "      <td>True</td>\n",
       "    </tr>\n",
       "  </tbody>\n",
       "</table>\n",
       "<p>2 rows × 23 columns</p>\n",
       "</div>"
      ],
      "text/plain": [
       "        duration_sec          start_time             end_time  \\\n",
       "110108           794 2020-01-28 20:50:28  2020-01-28 21:03:43   \n",
       "110109           734 2020-01-22 20:49:20  2020-01-22 21:01:34   \n",
       "\n",
       "        start_station_id             start_station_name  \\\n",
       "110108             449.0  16th Depot Bike Fleet Station   \n",
       "110109             449.0  16th Depot Bike Fleet Station   \n",
       "\n",
       "        start_station_latitude  start_station_longitude  end_station_id  \\\n",
       "110108                     0.0                      0.0             NaN   \n",
       "110109                     0.0                      0.0             NaN   \n",
       "\n",
       "       end_station_name  end_station_latitude  ...  bike_share_for_all_trip  \\\n",
       "110108              NaN             37.734992  ...                      NaN   \n",
       "110109              NaN             37.735049  ...                      NaN   \n",
       "\n",
       "        rental_access_method duration_min duration_hr start_hour  start_combo  \\\n",
       "110108                   app    13.233333    0.220556         20      0.0,0.0   \n",
       "110109                   app    12.233333    0.203889         20      0.0,0.0   \n",
       "\n",
       "                                end_combo  return_trip week_day   ram  \n",
       "110108  37.7349916667,-122.39091200000001        False        1  True  \n",
       "110109      37.7350488333,-122.3912866667        False        2  True  \n",
       "\n",
       "[2 rows x 23 columns]"
      ]
     },
     "execution_count": 116,
     "metadata": {},
     "output_type": "execute_result"
    }
   ],
   "source": [
    "#checking to see in my code above works\n",
    "tripdata_cleaned_ra.head(2)"
   ]
  },
  {
   "cell_type": "code",
   "execution_count": 117,
   "metadata": {},
   "outputs": [],
   "source": [
    "#I filter our all the null values in *ram* column\n",
    "tripdata_cleaned_ra = tripdata_cleaned_ra[tripdata_cleaned_ra.ram]"
   ]
  },
  {
   "cell_type": "code",
   "execution_count": 118,
   "metadata": {},
   "outputs": [],
   "source": [
    "#Dropping columns that I don't need\n",
    "tripdata_cleaned_ra = tripdata_cleaned_ra.drop(columns=['ram','duration_hr'])"
   ]
  },
  {
   "cell_type": "code",
   "execution_count": 28,
   "metadata": {},
   "outputs": [
    {
     "data": {
      "text/plain": [
       "app        171399\n",
       "clipper     13985\n",
       "Name: rental_access_method, dtype: int64"
      ]
     },
     "execution_count": 28,
     "metadata": {},
     "output_type": "execute_result"
    }
   ],
   "source": [
    "tripdata_cleaned_ra.rental_access_method.value_counts()"
   ]
  },
  {
   "cell_type": "code",
   "execution_count": 29,
   "metadata": {},
   "outputs": [
    {
     "data": {
      "image/png": "[encoded data removed]",
      "text/plain": [
       "<Figure size 432x288 with 1 Axes>"
      ]
     },
     "metadata": {
      "needs_background": "light"
     },
     "output_type": "display_data"
    }
   ],
   "source": [
    "sb.countplot(data=tripdata_cleaned_ra, x='rental_access_method')\n",
    "plt.title('Number of users by rental access method')\n",
    "plt.xlabel('Rental Access Method')\n",
    "plt.ylabel('Count')\n",
    "# add annotations\n",
    "n_points = tripdata_cleaned_ra.shape[0]\n",
    "ra_counts = tripdata_cleaned_ra['rental_access_method'].value_counts()\n",
    "locs, labels = plt.xticks() # get the current tick locations and labels\n",
    "\n",
    "# loop through each pair of locations and labels\n",
    "for loc, label in zip(locs, labels):\n",
    "\n",
    "    # get the text property for the label to get the correct count\n",
    "    count = ra_counts[label.get_text()]\n",
    "    pct_string = '{:0.1f}%'.format(100*count/n_points)\n",
    "\n",
    "    # print the annotation just below the top of the bar\n",
    "    plt.text(loc, count-8, pct_string, ha = 'center', color = 'black')\n",
    "plt.show()"
   ]
  },
  {
   "cell_type": "markdown",
   "metadata": {},
   "source": [
    ">As mentioned before, a lot of data is missing for this category which is why the two categories do not add up to 100%. If I were going to take a closer at this categorial variable in relation to duration minute, I would need to drop all the null values first. "
   ]
  },
  {
   "cell_type": "markdown",
   "metadata": {},
   "source": [
    "#### I want to see information in the *bike share for all trip* column"
   ]
  },
  {
   "cell_type": "code",
   "execution_count": 30,
   "metadata": {},
   "outputs": [
    {
     "data": {
      "image/png": "[encoded data removed]",
      "text/plain": [
       "<Figure size 432x288 with 1 Axes>"
      ]
     },
     "metadata": {
      "needs_background": "light"
     },
     "output_type": "display_data"
    }
   ],
   "source": [
    "sb.countplot(data=tripdata, x='bike_share_for_all_trip')\n",
    "plt.title('Number of users by bike sharing habit')\n",
    "plt.xlabel('Sharing bike for all trips')\n",
    "plt.ylabel('Count')\n",
    "# add annotations\n",
    "n_points = tripdata_cleaned.shape[0]\n",
    "bs_counts = tripdata_cleaned['bike_share_for_all_trip'].value_counts()\n",
    "locs, labels = plt.xticks() # get the current tick locations and labels\n",
    "\n",
    "# loop through each pair of locations and labels\n",
    "for loc, label in zip(locs, labels):\n",
    "\n",
    "    # get the text property for the label to get the correct count\n",
    "    count = bs_counts[label.get_text()]\n",
    "    pct_string = '{:0.1f}%'.format(100*count/n_points)\n",
    "\n",
    "    # print the annotation just below the top of the bar\n",
    "    plt.text(loc, count-8, pct_string, ha = 'center', color = 'black')\n",
    "plt.show()"
   ]
  },
  {
   "cell_type": "markdown",
   "metadata": {},
   "source": [
    ">Just like rental access method, a lot of data is missing for this category which is why the two categories do not add up to 100%. If I were going to take a closer at this categorial variable in relation to duration minute, I would need to drop all the null values first. However, given that only 0.6% of share bike, I am **not** going to analyse the data further. "
   ]
  },
  {
   "cell_type": "markdown",
   "metadata": {},
   "source": [
    "#### I wanted to see if the start time of the day had anything thing to do with the rental duration. "
   ]
  },
  {
   "cell_type": "code",
   "execution_count": 119,
   "metadata": {},
   "outputs": [],
   "source": [
    "#Converting start_time from object to datetime\n",
    "tripdata_cleaned['start_time'] = pd.to_datetime(tripdata_cleaned['start_time'])"
   ]
  },
  {
   "cell_type": "code",
   "execution_count": 32,
   "metadata": {},
   "outputs": [
    {
     "name": "stdout",
     "output_type": "stream",
     "text": [
      "<class 'pandas.core.frame.DataFrame'>\n",
      "Int64Index: 294848 entries, 7 to 295852\n",
      "Data columns (total 17 columns):\n",
      "duration_sec               294848 non-null int64\n",
      "start_time                 294848 non-null datetime64[ns]\n",
      "end_time                   294848 non-null object\n",
      "start_station_id           145575 non-null float64\n",
      "start_station_name         146154 non-null object\n",
      "start_station_latitude     294848 non-null float64\n",
      "start_station_longitude    294848 non-null float64\n",
      "end_station_id             145245 non-null float64\n",
      "end_station_name           145821 non-null object\n",
      "end_station_latitude       294848 non-null float64\n",
      "end_station_longitude      294848 non-null float64\n",
      "bike_id                    294848 non-null int64\n",
      "user_type                  294848 non-null object\n",
      "bike_share_for_all_trip    109464 non-null object\n",
      "rental_access_method       185384 non-null object\n",
      "duration_min               294848 non-null float64\n",
      "duration_hr                294848 non-null float64\n",
      "dtypes: datetime64[ns](1), float64(8), int64(2), object(6)\n",
      "memory usage: 50.5+ MB\n"
     ]
    }
   ],
   "source": [
    "tripdata_cleaned.info()"
   ]
  },
  {
   "cell_type": "code",
   "execution_count": 33,
   "metadata": {},
   "outputs": [],
   "source": [
    "#I am going to create an extra column to extract the hour of the start_time\n",
    "tripdata_cleaned['start_hour'] = tripdata_cleaned.start_time.dt.hour"
   ]
  },
  {
   "cell_type": "code",
   "execution_count": 34,
   "metadata": {},
   "outputs": [
    {
     "data": {
      "text/plain": [
       "17    33557\n",
       "8     30695\n",
       "18    24973\n",
       "16    24320\n",
       "9     22938\n",
       "15    16887\n",
       "19    16711\n",
       "7     15530\n",
       "12    14770\n",
       "13    14469\n",
       "14    14312\n",
       "10    13291\n",
       "11    13281\n",
       "20    10707\n",
       "21     7955\n",
       "6      5786\n",
       "22     5244\n",
       "23     3064\n",
       "0      1767\n",
       "5      1634\n",
       "1      1307\n",
       "2       840\n",
       "4       464\n",
       "3       346\n",
       "Name: start_hour, dtype: int64"
      ]
     },
     "execution_count": 34,
     "metadata": {},
     "output_type": "execute_result"
    }
   ],
   "source": [
    "tripdata_cleaned.start_hour.value_counts()"
   ]
  },
  {
   "cell_type": "markdown",
   "metadata": {},
   "source": [
    "#### I am going to create a histogram to see the distrubtion of bike rentals at different starting time"
   ]
  },
  {
   "cell_type": "code",
   "execution_count": 35,
   "metadata": {},
   "outputs": [
    {
     "data": {
      "image/png": "[encoded data removed]",
      "text/plain": [
       "<Figure size 432x288 with 1 Axes>"
      ]
     },
     "metadata": {
      "needs_background": "light"
     },
     "output_type": "display_data"
    }
   ],
   "source": [
    "figsize=[6,8]\n",
    "sb.countplot(data=tripdata_cleaned, x='start_hour',alpha=0.5,color = 'b')\n",
    "xticks = [0,2,4,6,8,10,12,14,16,18,20,22]\n",
    "plt.xticks(xticks,xticks)\n",
    "plt.xlabel('Start Hour (24 hrs)')\n",
    "plt.ylabel('Count')\n",
    "plt.title('Number of users at different start hour (24 hours)')\n",
    "plt.show()"
   ]
  },
  {
   "cell_type": "markdown",
   "metadata": {},
   "source": [
    ">The bar chart above showed bimodal distribution of data. The number of users started to climb up at 6 am until 8 am, then dropped to a steady level from 10am to 3pm, then it started to rise again with its highest number of users during the day at 5pm. It would be nice if we had extra data to see if users were using the bikes as their means of transport to go to work."
   ]
  },
  {
   "cell_type": "markdown",
   "metadata": {},
   "source": [
    "#### Now I move on to investigate the location of pick-up and drop-off points"
   ]
  },
  {
   "cell_type": "markdown",
   "metadata": {},
   "source": [
    "I also noticed that not all users returned the bike at the same location. For some weird reasons, start_station_id and end_station_id have a lot of missing values. However, the latitude and longitude of start and end locations have all values. I am going to create two columns combining these columns to form a unique identifier. "
   ]
  },
  {
   "cell_type": "code",
   "execution_count": 36,
   "metadata": {},
   "outputs": [
    {
     "name": "stdout",
     "output_type": "stream",
     "text": [
      "<class 'pandas.core.frame.DataFrame'>\n",
      "Int64Index: 294848 entries, 7 to 295852\n",
      "Data columns (total 18 columns):\n",
      "duration_sec               294848 non-null int64\n",
      "start_time                 294848 non-null datetime64[ns]\n",
      "end_time                   294848 non-null object\n",
      "start_station_id           145575 non-null float64\n",
      "start_station_name         146154 non-null object\n",
      "start_station_latitude     294848 non-null float64\n",
      "start_station_longitude    294848 non-null float64\n",
      "end_station_id             145245 non-null float64\n",
      "end_station_name           145821 non-null object\n",
      "end_station_latitude       294848 non-null float64\n",
      "end_station_longitude      294848 non-null float64\n",
      "bike_id                    294848 non-null int64\n",
      "user_type                  294848 non-null object\n",
      "bike_share_for_all_trip    109464 non-null object\n",
      "rental_access_method       185384 non-null object\n",
      "duration_min               294848 non-null float64\n",
      "duration_hr                294848 non-null float64\n",
      "start_hour                 294848 non-null int64\n",
      "dtypes: datetime64[ns](1), float64(8), int64(3), object(6)\n",
      "memory usage: 52.7+ MB\n"
     ]
    }
   ],
   "source": [
    "#checking how many nulls in the end_station_id column\n",
    "\n",
    "tripdata_cleaned.info()"
   ]
  },
  {
   "cell_type": "code",
   "execution_count": 122,
   "metadata": {},
   "outputs": [],
   "source": [
    "# I am going to use apply & lambda functions to create two new columns containing the pick-up and drop-off locations \n",
    "#using latitude and longtitude\n",
    "tripdata_cleaned['start_combo'] = tripdata_cleaned[['start_station_latitude', 'start_station_longitude']].apply(lambda x: ','.join(x.astype(str)), axis=1)\n",
    "tripdata_cleaned['end_combo'] = tripdata_cleaned[['end_station_latitude', 'end_station_longitude']].apply(lambda x: ','.join(x.astype(str)), axis=1)\n"
   ]
  },
  {
   "cell_type": "code",
   "execution_count": 123,
   "metadata": {},
   "outputs": [
    {
     "data": {
      "text/html": [
       "<div>\n",
       "<style scoped>\n",
       "    .dataframe tbody tr th:only-of-type {\n",
       "        vertical-align: middle;\n",
       "    }\n",
       "\n",
       "    .dataframe tbody tr th {\n",
       "        vertical-align: top;\n",
       "    }\n",
       "\n",
       "    .dataframe thead th {\n",
       "        text-align: right;\n",
       "    }\n",
       "</style>\n",
       "<table border=\"1\" class=\"dataframe\">\n",
       "  <thead>\n",
       "    <tr style=\"text-align: right;\">\n",
       "      <th></th>\n",
       "      <th>duration_sec</th>\n",
       "      <th>start_time</th>\n",
       "      <th>end_time</th>\n",
       "      <th>start_station_id</th>\n",
       "      <th>start_station_name</th>\n",
       "      <th>start_station_latitude</th>\n",
       "      <th>start_station_longitude</th>\n",
       "      <th>end_station_id</th>\n",
       "      <th>end_station_name</th>\n",
       "      <th>end_station_latitude</th>\n",
       "      <th>...</th>\n",
       "      <th>user_type</th>\n",
       "      <th>bike_share_for_all_trip</th>\n",
       "      <th>rental_access_method</th>\n",
       "      <th>duration_min</th>\n",
       "      <th>duration_hr</th>\n",
       "      <th>start_hour</th>\n",
       "      <th>start_combo</th>\n",
       "      <th>end_combo</th>\n",
       "      <th>return_trip</th>\n",
       "      <th>week_day</th>\n",
       "    </tr>\n",
       "  </thead>\n",
       "  <tbody>\n",
       "    <tr>\n",
       "      <th>7</th>\n",
       "      <td>4038</td>\n",
       "      <td>2020-01-31 23:32:03.907</td>\n",
       "      <td>2020-02-01 00:39:22.0210</td>\n",
       "      <td>450.0</td>\n",
       "      <td>Funston Ave at Irving St</td>\n",
       "      <td>37.763934</td>\n",
       "      <td>-122.470651</td>\n",
       "      <td>450.0</td>\n",
       "      <td>Funston Ave at Irving St</td>\n",
       "      <td>37.763934</td>\n",
       "      <td>...</td>\n",
       "      <td>Customer</td>\n",
       "      <td>No</td>\n",
       "      <td>NaN</td>\n",
       "      <td>67.300000</td>\n",
       "      <td>1.121667</td>\n",
       "      <td>23</td>\n",
       "      <td>37.7639340252,-122.4706506729</td>\n",
       "      <td>37.7639340252,-122.4706506729</td>\n",
       "      <td>True</td>\n",
       "      <td>4</td>\n",
       "    </tr>\n",
       "    <tr>\n",
       "      <th>8</th>\n",
       "      <td>4059</td>\n",
       "      <td>2020-01-31 23:31:01.161</td>\n",
       "      <td>2020-02-01 00:38:40.8570</td>\n",
       "      <td>450.0</td>\n",
       "      <td>Funston Ave at Irving St</td>\n",
       "      <td>37.763934</td>\n",
       "      <td>-122.470651</td>\n",
       "      <td>450.0</td>\n",
       "      <td>Funston Ave at Irving St</td>\n",
       "      <td>37.763934</td>\n",
       "      <td>...</td>\n",
       "      <td>Customer</td>\n",
       "      <td>No</td>\n",
       "      <td>NaN</td>\n",
       "      <td>67.650000</td>\n",
       "      <td>1.127500</td>\n",
       "      <td>23</td>\n",
       "      <td>37.7639340252,-122.4706506729</td>\n",
       "      <td>37.7639340252,-122.4706506729</td>\n",
       "      <td>True</td>\n",
       "      <td>4</td>\n",
       "    </tr>\n",
       "    <tr>\n",
       "      <th>9</th>\n",
       "      <td>1980</td>\n",
       "      <td>2020-01-31 23:49:09.230</td>\n",
       "      <td>2020-02-01 00:22:09.7540</td>\n",
       "      <td>238.0</td>\n",
       "      <td>MLK Jr Way at University Ave</td>\n",
       "      <td>37.871719</td>\n",
       "      <td>-122.273068</td>\n",
       "      <td>198.0</td>\n",
       "      <td>Snow Park</td>\n",
       "      <td>37.807813</td>\n",
       "      <td>...</td>\n",
       "      <td>Customer</td>\n",
       "      <td>No</td>\n",
       "      <td>NaN</td>\n",
       "      <td>33.000000</td>\n",
       "      <td>0.550000</td>\n",
       "      <td>23</td>\n",
       "      <td>37.8717192,-122.27306770000001</td>\n",
       "      <td>37.8078131822,-122.26449608799999</td>\n",
       "      <td>False</td>\n",
       "      <td>4</td>\n",
       "    </tr>\n",
       "    <tr>\n",
       "      <th>10</th>\n",
       "      <td>1969</td>\n",
       "      <td>2020-01-31 23:49:03.972</td>\n",
       "      <td>2020-02-01 00:21:53.5730</td>\n",
       "      <td>238.0</td>\n",
       "      <td>MLK Jr Way at University Ave</td>\n",
       "      <td>37.871719</td>\n",
       "      <td>-122.273068</td>\n",
       "      <td>198.0</td>\n",
       "      <td>Snow Park</td>\n",
       "      <td>37.807813</td>\n",
       "      <td>...</td>\n",
       "      <td>Customer</td>\n",
       "      <td>No</td>\n",
       "      <td>NaN</td>\n",
       "      <td>32.816667</td>\n",
       "      <td>0.546944</td>\n",
       "      <td>23</td>\n",
       "      <td>37.8717192,-122.27306770000001</td>\n",
       "      <td>37.8078131822,-122.26449608799999</td>\n",
       "      <td>False</td>\n",
       "      <td>4</td>\n",
       "    </tr>\n",
       "    <tr>\n",
       "      <th>11</th>\n",
       "      <td>1611</td>\n",
       "      <td>2020-01-31 23:49:10.931</td>\n",
       "      <td>2020-02-01 00:16:02.4310</td>\n",
       "      <td>174.0</td>\n",
       "      <td>Shattuck Ave at 51st St</td>\n",
       "      <td>37.836801</td>\n",
       "      <td>-122.264004</td>\n",
       "      <td>259.0</td>\n",
       "      <td>Addison St at Fourth St</td>\n",
       "      <td>37.866249</td>\n",
       "      <td>...</td>\n",
       "      <td>Subscriber</td>\n",
       "      <td>Yes</td>\n",
       "      <td>NaN</td>\n",
       "      <td>26.850000</td>\n",
       "      <td>0.447500</td>\n",
       "      <td>23</td>\n",
       "      <td>37.8368013,-122.2640037</td>\n",
       "      <td>37.866248999999996,-122.29937079999999</td>\n",
       "      <td>False</td>\n",
       "      <td>4</td>\n",
       "    </tr>\n",
       "  </tbody>\n",
       "</table>\n",
       "<p>5 rows × 22 columns</p>\n",
       "</div>"
      ],
      "text/plain": [
       "    duration_sec              start_time                  end_time  \\\n",
       "7           4038 2020-01-31 23:32:03.907  2020-02-01 00:39:22.0210   \n",
       "8           4059 2020-01-31 23:31:01.161  2020-02-01 00:38:40.8570   \n",
       "9           1980 2020-01-31 23:49:09.230  2020-02-01 00:22:09.7540   \n",
       "10          1969 2020-01-31 23:49:03.972  2020-02-01 00:21:53.5730   \n",
       "11          1611 2020-01-31 23:49:10.931  2020-02-01 00:16:02.4310   \n",
       "\n",
       "    start_station_id            start_station_name  start_station_latitude  \\\n",
       "7              450.0      Funston Ave at Irving St               37.763934   \n",
       "8              450.0      Funston Ave at Irving St               37.763934   \n",
       "9              238.0  MLK Jr Way at University Ave               37.871719   \n",
       "10             238.0  MLK Jr Way at University Ave               37.871719   \n",
       "11             174.0       Shattuck Ave at 51st St               37.836801   \n",
       "\n",
       "    start_station_longitude  end_station_id          end_station_name  \\\n",
       "7               -122.470651           450.0  Funston Ave at Irving St   \n",
       "8               -122.470651           450.0  Funston Ave at Irving St   \n",
       "9               -122.273068           198.0                 Snow Park   \n",
       "10              -122.273068           198.0                 Snow Park   \n",
       "11              -122.264004           259.0   Addison St at Fourth St   \n",
       "\n",
       "    end_station_latitude  ...   user_type  bike_share_for_all_trip  \\\n",
       "7              37.763934  ...    Customer                       No   \n",
       "8              37.763934  ...    Customer                       No   \n",
       "9              37.807813  ...    Customer                       No   \n",
       "10             37.807813  ...    Customer                       No   \n",
       "11             37.866249  ...  Subscriber                      Yes   \n",
       "\n",
       "   rental_access_method duration_min duration_hr  start_hour  \\\n",
       "7                   NaN    67.300000    1.121667          23   \n",
       "8                   NaN    67.650000    1.127500          23   \n",
       "9                   NaN    33.000000    0.550000          23   \n",
       "10                  NaN    32.816667    0.546944          23   \n",
       "11                  NaN    26.850000    0.447500          23   \n",
       "\n",
       "                       start_combo                               end_combo  \\\n",
       "7    37.7639340252,-122.4706506729           37.7639340252,-122.4706506729   \n",
       "8    37.7639340252,-122.4706506729           37.7639340252,-122.4706506729   \n",
       "9   37.8717192,-122.27306770000001       37.8078131822,-122.26449608799999   \n",
       "10  37.8717192,-122.27306770000001       37.8078131822,-122.26449608799999   \n",
       "11         37.8368013,-122.2640037  37.866248999999996,-122.29937079999999   \n",
       "\n",
       "   return_trip week_day  \n",
       "7         True        4  \n",
       "8         True        4  \n",
       "9        False        4  \n",
       "10       False        4  \n",
       "11       False        4  \n",
       "\n",
       "[5 rows x 22 columns]"
      ]
     },
     "execution_count": 123,
     "metadata": {},
     "output_type": "execute_result"
    }
   ],
   "source": [
    "tripdata_cleaned.head()"
   ]
  },
  {
   "cell_type": "code",
   "execution_count": 124,
   "metadata": {},
   "outputs": [
    {
     "data": {
      "text/plain": [
       "(294848, 22)"
      ]
     },
     "execution_count": 124,
     "metadata": {},
     "output_type": "execute_result"
    }
   ],
   "source": [
    "tripdata_cleaned.shape"
   ]
  },
  {
   "cell_type": "code",
   "execution_count": 125,
   "metadata": {},
   "outputs": [
    {
     "data": {
      "text/plain": [
       "0"
      ]
     },
     "execution_count": 125,
     "metadata": {},
     "output_type": "execute_result"
    }
   ],
   "source": [
    "#Checking the cleaness of data\n",
    "tripdata_cleaned.start_combo.isnull().sum()"
   ]
  },
  {
   "cell_type": "code",
   "execution_count": 126,
   "metadata": {},
   "outputs": [
    {
     "data": {
      "text/plain": [
       "0"
      ]
     },
     "execution_count": 126,
     "metadata": {},
     "output_type": "execute_result"
    }
   ],
   "source": [
    "#Checking the cleaness of data\n",
    "\n",
    "tripdata_cleaned.end_combo.isnull().sum()"
   ]
  },
  {
   "cell_type": "code",
   "execution_count": 127,
   "metadata": {},
   "outputs": [],
   "source": [
    "# Now I am going to create another column using boolean to indicate whether the pick-up and drop-off \n",
    "#locations are the same\n",
    "tripdata_cleaned = tripdata_cleaned.assign(return_trip = tripdata_cleaned.start_combo == tripdata_cleaned.end_combo)"
   ]
  },
  {
   "cell_type": "code",
   "execution_count": 46,
   "metadata": {},
   "outputs": [
    {
     "data": {
      "text/plain": [
       "False    291414\n",
       "True       3434\n",
       "Name: return_trip, dtype: int64"
      ]
     },
     "execution_count": 46,
     "metadata": {},
     "output_type": "execute_result"
    }
   ],
   "source": [
    "tripdata_cleaned['return_trip'].value_counts()"
   ]
  },
  {
   "cell_type": "code",
   "execution_count": 128,
   "metadata": {},
   "outputs": [
    {
     "data": {
      "text/plain": [
       "1.16"
      ]
     },
     "execution_count": 128,
     "metadata": {},
     "output_type": "execute_result"
    }
   ],
   "source": [
    "#I want to use a piechart to show data this time so I am going to get the % of users who pick up and drop off at\n",
    "#the same location\n",
    "same_depot = round(tripdata_cleaned['return_trip'].mean()*100,2)\n",
    "same_depot"
   ]
  },
  {
   "cell_type": "code",
   "execution_count": 129,
   "metadata": {},
   "outputs": [
    {
     "data": {
      "text/plain": [
       "98.84"
      ]
     },
     "execution_count": 129,
     "metadata": {},
     "output_type": "execute_result"
    }
   ],
   "source": [
    "#I want to use a piechart to show data this time so I am going to get the % of users who pick up and drop off at\n",
    "#the different location\n",
    "diff_depot = round((1-tripdata_cleaned['return_trip'].mean())*100,2)\n",
    "diff_depot"
   ]
  },
  {
   "cell_type": "code",
   "execution_count": 49,
   "metadata": {},
   "outputs": [
    {
     "data": {
      "image/png": "[encoded data removed]",
      "text/plain": [
       "<Figure size 432x288 with 1 Axes>"
      ]
     },
     "metadata": {},
     "output_type": "display_data"
    }
   ],
   "source": [
    "figsize = [6,8]\n",
    "mean = [same_depot, diff_depot]\n",
    "location = ['Same Depot', 'Different Deport']\n",
    "explode = (0.1,0)\n",
    "colors = ['maroon', 'darkslategray']\n",
    "plt.pie(mean, labels=location, colors = colors,startangle=45, autopct='%.1f%%',explode=explode)\n",
    "plt.title('Split between return locations')\n",
    "plt.show()"
   ]
  },
  {
   "cell_type": "markdown",
   "metadata": {},
   "source": [
    ">As expected, most customers (98.8%) actually returned the bike at a different location. I wonder if this would have anything to do with the duration of rental."
   ]
  },
  {
   "cell_type": "markdown",
   "metadata": {},
   "source": [
    "#### I also wanted to see the distrubtion of rentals in terms of week day."
   ]
  },
  {
   "cell_type": "code",
   "execution_count": 130,
   "metadata": {},
   "outputs": [],
   "source": [
    "#I am getting the wee day data via the start_time column\n",
    "tripdata_cleaned['week_day'] = tripdata_cleaned.start_time.dt.dayofweek"
   ]
  },
  {
   "cell_type": "code",
   "execution_count": 51,
   "metadata": {},
   "outputs": [
    {
     "data": {
      "text/html": [
       "<div>\n",
       "<style scoped>\n",
       "    .dataframe tbody tr th:only-of-type {\n",
       "        vertical-align: middle;\n",
       "    }\n",
       "\n",
       "    .dataframe tbody tr th {\n",
       "        vertical-align: top;\n",
       "    }\n",
       "\n",
       "    .dataframe thead th {\n",
       "        text-align: right;\n",
       "    }\n",
       "</style>\n",
       "<table border=\"1\" class=\"dataframe\">\n",
       "  <thead>\n",
       "    <tr style=\"text-align: right;\">\n",
       "      <th></th>\n",
       "      <th>duration_sec</th>\n",
       "      <th>start_time</th>\n",
       "      <th>end_time</th>\n",
       "      <th>start_station_id</th>\n",
       "      <th>start_station_name</th>\n",
       "      <th>start_station_latitude</th>\n",
       "      <th>start_station_longitude</th>\n",
       "      <th>end_station_id</th>\n",
       "      <th>end_station_name</th>\n",
       "      <th>end_station_latitude</th>\n",
       "      <th>...</th>\n",
       "      <th>user_type</th>\n",
       "      <th>bike_share_for_all_trip</th>\n",
       "      <th>rental_access_method</th>\n",
       "      <th>duration_min</th>\n",
       "      <th>duration_hr</th>\n",
       "      <th>start_hour</th>\n",
       "      <th>start_combo</th>\n",
       "      <th>end_combo</th>\n",
       "      <th>return_trip</th>\n",
       "      <th>week_day</th>\n",
       "    </tr>\n",
       "  </thead>\n",
       "  <tbody>\n",
       "    <tr>\n",
       "      <th>7</th>\n",
       "      <td>4038</td>\n",
       "      <td>2020-01-31 23:32:03.907</td>\n",
       "      <td>2020-02-01 00:39:22.0210</td>\n",
       "      <td>450.0</td>\n",
       "      <td>Funston Ave at Irving St</td>\n",
       "      <td>37.763934</td>\n",
       "      <td>-122.470651</td>\n",
       "      <td>450.0</td>\n",
       "      <td>Funston Ave at Irving St</td>\n",
       "      <td>37.763934</td>\n",
       "      <td>...</td>\n",
       "      <td>Customer</td>\n",
       "      <td>No</td>\n",
       "      <td>NaN</td>\n",
       "      <td>67.300000</td>\n",
       "      <td>1.121667</td>\n",
       "      <td>23</td>\n",
       "      <td>37.7639340252,-122.4706506729</td>\n",
       "      <td>37.7639340252,-122.4706506729</td>\n",
       "      <td>True</td>\n",
       "      <td>4</td>\n",
       "    </tr>\n",
       "    <tr>\n",
       "      <th>8</th>\n",
       "      <td>4059</td>\n",
       "      <td>2020-01-31 23:31:01.161</td>\n",
       "      <td>2020-02-01 00:38:40.8570</td>\n",
       "      <td>450.0</td>\n",
       "      <td>Funston Ave at Irving St</td>\n",
       "      <td>37.763934</td>\n",
       "      <td>-122.470651</td>\n",
       "      <td>450.0</td>\n",
       "      <td>Funston Ave at Irving St</td>\n",
       "      <td>37.763934</td>\n",
       "      <td>...</td>\n",
       "      <td>Customer</td>\n",
       "      <td>No</td>\n",
       "      <td>NaN</td>\n",
       "      <td>67.650000</td>\n",
       "      <td>1.127500</td>\n",
       "      <td>23</td>\n",
       "      <td>37.7639340252,-122.4706506729</td>\n",
       "      <td>37.7639340252,-122.4706506729</td>\n",
       "      <td>True</td>\n",
       "      <td>4</td>\n",
       "    </tr>\n",
       "    <tr>\n",
       "      <th>9</th>\n",
       "      <td>1980</td>\n",
       "      <td>2020-01-31 23:49:09.230</td>\n",
       "      <td>2020-02-01 00:22:09.7540</td>\n",
       "      <td>238.0</td>\n",
       "      <td>MLK Jr Way at University Ave</td>\n",
       "      <td>37.871719</td>\n",
       "      <td>-122.273068</td>\n",
       "      <td>198.0</td>\n",
       "      <td>Snow Park</td>\n",
       "      <td>37.807813</td>\n",
       "      <td>...</td>\n",
       "      <td>Customer</td>\n",
       "      <td>No</td>\n",
       "      <td>NaN</td>\n",
       "      <td>33.000000</td>\n",
       "      <td>0.550000</td>\n",
       "      <td>23</td>\n",
       "      <td>37.8717192,-122.27306770000001</td>\n",
       "      <td>37.8078131822,-122.26449608799999</td>\n",
       "      <td>False</td>\n",
       "      <td>4</td>\n",
       "    </tr>\n",
       "    <tr>\n",
       "      <th>10</th>\n",
       "      <td>1969</td>\n",
       "      <td>2020-01-31 23:49:03.972</td>\n",
       "      <td>2020-02-01 00:21:53.5730</td>\n",
       "      <td>238.0</td>\n",
       "      <td>MLK Jr Way at University Ave</td>\n",
       "      <td>37.871719</td>\n",
       "      <td>-122.273068</td>\n",
       "      <td>198.0</td>\n",
       "      <td>Snow Park</td>\n",
       "      <td>37.807813</td>\n",
       "      <td>...</td>\n",
       "      <td>Customer</td>\n",
       "      <td>No</td>\n",
       "      <td>NaN</td>\n",
       "      <td>32.816667</td>\n",
       "      <td>0.546944</td>\n",
       "      <td>23</td>\n",
       "      <td>37.8717192,-122.27306770000001</td>\n",
       "      <td>37.8078131822,-122.26449608799999</td>\n",
       "      <td>False</td>\n",
       "      <td>4</td>\n",
       "    </tr>\n",
       "    <tr>\n",
       "      <th>11</th>\n",
       "      <td>1611</td>\n",
       "      <td>2020-01-31 23:49:10.931</td>\n",
       "      <td>2020-02-01 00:16:02.4310</td>\n",
       "      <td>174.0</td>\n",
       "      <td>Shattuck Ave at 51st St</td>\n",
       "      <td>37.836801</td>\n",
       "      <td>-122.264004</td>\n",
       "      <td>259.0</td>\n",
       "      <td>Addison St at Fourth St</td>\n",
       "      <td>37.866249</td>\n",
       "      <td>...</td>\n",
       "      <td>Subscriber</td>\n",
       "      <td>Yes</td>\n",
       "      <td>NaN</td>\n",
       "      <td>26.850000</td>\n",
       "      <td>0.447500</td>\n",
       "      <td>23</td>\n",
       "      <td>37.8368013,-122.2640037</td>\n",
       "      <td>37.866248999999996,-122.29937079999999</td>\n",
       "      <td>False</td>\n",
       "      <td>4</td>\n",
       "    </tr>\n",
       "  </tbody>\n",
       "</table>\n",
       "<p>5 rows × 22 columns</p>\n",
       "</div>"
      ],
      "text/plain": [
       "    duration_sec              start_time                  end_time  \\\n",
       "7           4038 2020-01-31 23:32:03.907  2020-02-01 00:39:22.0210   \n",
       "8           4059 2020-01-31 23:31:01.161  2020-02-01 00:38:40.8570   \n",
       "9           1980 2020-01-31 23:49:09.230  2020-02-01 00:22:09.7540   \n",
       "10          1969 2020-01-31 23:49:03.972  2020-02-01 00:21:53.5730   \n",
       "11          1611 2020-01-31 23:49:10.931  2020-02-01 00:16:02.4310   \n",
       "\n",
       "    start_station_id            start_station_name  start_station_latitude  \\\n",
       "7              450.0      Funston Ave at Irving St               37.763934   \n",
       "8              450.0      Funston Ave at Irving St               37.763934   \n",
       "9              238.0  MLK Jr Way at University Ave               37.871719   \n",
       "10             238.0  MLK Jr Way at University Ave               37.871719   \n",
       "11             174.0       Shattuck Ave at 51st St               37.836801   \n",
       "\n",
       "    start_station_longitude  end_station_id          end_station_name  \\\n",
       "7               -122.470651           450.0  Funston Ave at Irving St   \n",
       "8               -122.470651           450.0  Funston Ave at Irving St   \n",
       "9               -122.273068           198.0                 Snow Park   \n",
       "10              -122.273068           198.0                 Snow Park   \n",
       "11              -122.264004           259.0   Addison St at Fourth St   \n",
       "\n",
       "    end_station_latitude  ...   user_type  bike_share_for_all_trip  \\\n",
       "7              37.763934  ...    Customer                       No   \n",
       "8              37.763934  ...    Customer                       No   \n",
       "9              37.807813  ...    Customer                       No   \n",
       "10             37.807813  ...    Customer                       No   \n",
       "11             37.866249  ...  Subscriber                      Yes   \n",
       "\n",
       "   rental_access_method duration_min duration_hr  start_hour  \\\n",
       "7                   NaN    67.300000    1.121667          23   \n",
       "8                   NaN    67.650000    1.127500          23   \n",
       "9                   NaN    33.000000    0.550000          23   \n",
       "10                  NaN    32.816667    0.546944          23   \n",
       "11                  NaN    26.850000    0.447500          23   \n",
       "\n",
       "                       start_combo                               end_combo  \\\n",
       "7    37.7639340252,-122.4706506729           37.7639340252,-122.4706506729   \n",
       "8    37.7639340252,-122.4706506729           37.7639340252,-122.4706506729   \n",
       "9   37.8717192,-122.27306770000001       37.8078131822,-122.26449608799999   \n",
       "10  37.8717192,-122.27306770000001       37.8078131822,-122.26449608799999   \n",
       "11         37.8368013,-122.2640037  37.866248999999996,-122.29937079999999   \n",
       "\n",
       "   return_trip week_day  \n",
       "7         True        4  \n",
       "8         True        4  \n",
       "9        False        4  \n",
       "10       False        4  \n",
       "11       False        4  \n",
       "\n",
       "[5 rows x 22 columns]"
      ]
     },
     "execution_count": 51,
     "metadata": {},
     "output_type": "execute_result"
    }
   ],
   "source": [
    "tripdata_cleaned.head()"
   ]
  },
  {
   "cell_type": "markdown",
   "metadata": {},
   "source": [
    "Now I am going to use a histogram to find the distribution of rentals on different days during the week"
   ]
  },
  {
   "cell_type": "code",
   "execution_count": 52,
   "metadata": {},
   "outputs": [
    {
     "data": {
      "image/png": "[encoded data removed]",
      "text/plain": [
       "<Figure size 432x288 with 1 Axes>"
      ]
     },
     "metadata": {
      "needs_background": "light"
     },
     "output_type": "display_data"
    }
   ],
   "source": [
    "fig, ax = plt.subplots(1,1) \n",
    "x = np.arange(0,7,1)\n",
    "sb.countplot(data =tripdata_cleaned, x='week_day',color='darkslategrey',alpha=0.5)\n",
    "x_ticks_labels = ['Sun','Mon','Tue','Wed','Thu','Fri','Sat']\n",
    "\n",
    "# Set number of ticks for x-axis\n",
    "ax.set_xticks(x)\n",
    "# Set ticks labels for x-axis\n",
    "ax.set_xticklabels(x_ticks_labels, rotation=15, fontsize=10)\n",
    "plt.title('Number of rentals by weekday')\n",
    "plt.xlabel('Weekday')\n",
    "plt.ylabel('Count')\n",
    "\n",
    "plt.show()"
   ]
  },
  {
   "cell_type": "markdown",
   "metadata": {},
   "source": [
    ">It is interesting to see that the number of bike rentals were not steady during weekdays, given that the data previously showed that most renters were taking bikes during office peak hours. Rentals on Sunday seemed also high, which constrasted to the number of rentals on Saturday.   "
   ]
  },
  {
   "cell_type": "markdown",
   "metadata": {},
   "source": [
    "## Bivariate Exploration"
   ]
  },
  {
   "cell_type": "markdown",
   "metadata": {},
   "source": [
    "#### I am going to compare the rental duration by user type"
   ]
  },
  {
   "cell_type": "code",
   "execution_count": 53,
   "metadata": {},
   "outputs": [
    {
     "data": {
      "image/png": "[encoded data removed]",
      "text/plain": [
       "<Figure size 864x360 with 1 Axes>"
      ]
     },
     "metadata": {
      "needs_background": "light"
     },
     "output_type": "display_data"
    },
    {
     "data": {
      "image/png": "[encoded data removed]",
      "text/plain": [
       "<Figure size 864x360 with 1 Axes>"
      ]
     },
     "metadata": {
      "needs_background": "light"
     },
     "output_type": "display_data"
    }
   ],
   "source": [
    "plt.figure(figsize = [12, 5])\n",
    "plt.subplot(1,2,1)\n",
    "log_binsize = 10**np.arange(0,np.log10(tripdata_cleaned['duration_min']).max() +0.2,0.03)\n",
    "sb.boxplot(data = tripdata_cleaned, x = 'user_type', y = 'duration_min')\n",
    "\n",
    "plt.title('Rental duration (min) by user type (Box Plot)')\n",
    "plt.yscale('log')\n",
    "y_tick=[1,2,3,5,10,15,30,50,100]\n",
    "plt.yticks(y_tick,y_tick)\n",
    "plt.show()\n",
    "\n",
    "plt.figure(figsize = [12, 5])\n",
    "plt.subplot(1,2,2)\n",
    "log_binsize = 10**np.arange(0,np.log10(tripdata_cleaned['duration_min']).max() +0.2,0.03)\n",
    "sb.violinplot(data = tripdata_cleaned, x = 'user_type', y = 'duration_min',inner = 'quartile')\n",
    "\n",
    "plt.title('Rental duration (min) by user type (Violin Plot)')\n",
    "plt.yscale('log')\n",
    "y_tick=[1,2,3,5,10,15,30,50,100]\n",
    "plt.yticks(y_tick,y_tick)\n",
    "plt.show()"
   ]
  },
  {
   "cell_type": "markdown",
   "metadata": {},
   "source": [
    ">I wanted to see if there was any difference in rental duration between normal customers and regular subscriber of the platform. Intereatingly, the lower and upper quartiles, and the median in these two segments of users are almost of the same. The boxplot does a slightly better job to show the differences of data distribution between these two segments, with subscriber's median, lower and upper quartiles being slightly lower than that of normal customers'. "
   ]
  },
  {
   "cell_type": "markdown",
   "metadata": {},
   "source": [
    "#### I also want to see if there's any major difference in terms of rental duration when users use different methods to access the bike"
   ]
  },
  {
   "cell_type": "code",
   "execution_count": 54,
   "metadata": {},
   "outputs": [
    {
     "data": {
      "image/png": "[encoded data removed]",
      "text/plain": [
       "<Figure size 864x360 with 1 Axes>"
      ]
     },
     "metadata": {
      "needs_background": "light"
     },
     "output_type": "display_data"
    },
    {
     "data": {
      "image/png": "[encoded data removed]",
      "text/plain": [
       "<Figure size 864x360 with 1 Axes>"
      ]
     },
     "metadata": {
      "needs_background": "light"
     },
     "output_type": "display_data"
    }
   ],
   "source": [
    "## Rental Access Method\n",
    "plt.figure(figsize = [12, 5])\n",
    "plt.subplot(1,2,1)\n",
    "type_colour = {'app': '#ee99ac', 'clipper': '#7038f8'}\n",
    "log_binsize = 10**np.arange(0,np.log10(tripdata_cleaned_ra['duration_min']).max() +0.2,0.03)\n",
    "sb.boxplot(data = tripdata_cleaned_ra, x = 'rental_access_method', y = 'duration_min',color = 'y',palette = type_colour)\n",
    "\n",
    "plt.title('Rental duration (min) by rental access method')\n",
    "plt.xlabel('Rental Access Method')\n",
    "plt.ylabel('Rental duration (min)')\n",
    "plt.yscale('log')\n",
    "y_tick=[1,2,3,5,10,15,30,50,100]\n",
    "plt.yticks(y_tick,y_tick)\n",
    "plt.show();\n",
    "\n",
    "plt.figure(figsize = [12, 5])\n",
    "plt.subplot(1,2,2)\n",
    "type_colour = {'app': '#ee99ac', 'clipper': '#7038f8'}\n",
    "\n",
    "log_binsize = 10**np.arange(0,np.log10(tripdata_cleaned_ra['duration_min']).max() +0.2,0.03)\n",
    "sb.violinplot(data = tripdata_cleaned_ra, x = 'rental_access_method', y = 'duration_min',palette = type_colour)\n",
    "\n",
    "plt.title('Rental duration (min) by rental access method')\n",
    "plt.xlabel('Rental Access Method')\n",
    "plt.ylabel('Rental duration (min)')\n",
    "plt.yscale('log')\n",
    "y_tick=[1,2,3,5,10,15,30,50,100]\n",
    "plt.yticks(y_tick,y_tick)\n",
    "plt.show()"
   ]
  },
  {
   "cell_type": "markdown",
   "metadata": {},
   "source": [
    ">It is worthnoting that that median, lower and upper quartiles of clipper are lower than that of the app. The median of clipper is around 8 and the lower quartile is just below 5, while that of app's are 10 and 6 respectively. "
   ]
  },
  {
   "cell_type": "markdown",
   "metadata": {},
   "source": [
    "#### Now I want to see the relationship between rental duration and start hour of the trip"
   ]
  },
  {
   "cell_type": "code",
   "execution_count": 56,
   "metadata": {},
   "outputs": [
    {
     "data": {
      "image/png": "[encoded data removed]",
      "text/plain": [
       "<Figure size 432x288 with 1 Axes>"
      ]
     },
     "metadata": {
      "needs_background": "light"
     },
     "output_type": "display_data"
    }
   ],
   "source": [
    "figsize=[12,8]\n",
    "plt.scatter(data=tripdata_cleaned, x='start_hour',y='duration_min',alpha=0.05)\n",
    "plt.xlabel('Start Hour (24 hrs)')\n",
    "plt.ylabel('Duration (min)')\n",
    "plt.title('Rental duartion (min) in relation to start hour')\n",
    "x_ticks = [0,2,4,6,8,10,12,14,16,18,20,22]\n",
    "plt.xticks(x_ticks,x_ticks)\n",
    "plt.show()"
   ]
  },
  {
   "cell_type": "markdown",
   "metadata": {},
   "source": [
    ">For rental duration less than 20 minutes, it appeared that there were constant amount of users renting bikes around the clock. Most of the longer rentals happened during the day, started at around 7am and its peak at 1pm and started declining after 4pm. \n",
    "<br>\n",
    "<br>\n",
    ">As I was adjustting the transparency of the colour, I discovered something very weird. Regardless of the starting hour, some users were renting bikes for around 64 minuts. As I mentioned above when creating a bar chart using log scale to demonstrate the distribution of duration, there was a little increase of number of users who rented bikes for precisely around 60 minutes. I decided to investigate further."
   ]
  },
  {
   "cell_type": "markdown",
   "metadata": {},
   "source": [
    "#### Investigate the odd group of data which shows users renting bikes at different hours of the day for aroudn 60 minutes"
   ]
  },
  {
   "cell_type": "code",
   "execution_count": 57,
   "metadata": {},
   "outputs": [],
   "source": [
    "odd_min = (tripdata_cleaned['duration_min'] >= 62) & (tripdata_cleaned['duration_min'] <= 68)"
   ]
  },
  {
   "cell_type": "code",
   "execution_count": 58,
   "metadata": {},
   "outputs": [],
   "source": [
    "odd_min_df = tripdata_cleaned.loc[odd_min,:]"
   ]
  },
  {
   "cell_type": "code",
   "execution_count": 59,
   "metadata": {},
   "outputs": [
    {
     "data": {
      "text/html": [
       "<div>\n",
       "<style scoped>\n",
       "    .dataframe tbody tr th:only-of-type {\n",
       "        vertical-align: middle;\n",
       "    }\n",
       "\n",
       "    .dataframe tbody tr th {\n",
       "        vertical-align: top;\n",
       "    }\n",
       "\n",
       "    .dataframe thead th {\n",
       "        text-align: right;\n",
       "    }\n",
       "</style>\n",
       "<table border=\"1\" class=\"dataframe\">\n",
       "  <thead>\n",
       "    <tr style=\"text-align: right;\">\n",
       "      <th></th>\n",
       "      <th>duration_sec</th>\n",
       "      <th>start_time</th>\n",
       "      <th>end_time</th>\n",
       "      <th>start_station_id</th>\n",
       "      <th>start_station_name</th>\n",
       "      <th>start_station_latitude</th>\n",
       "      <th>start_station_longitude</th>\n",
       "      <th>end_station_id</th>\n",
       "      <th>end_station_name</th>\n",
       "      <th>end_station_latitude</th>\n",
       "      <th>...</th>\n",
       "      <th>user_type</th>\n",
       "      <th>bike_share_for_all_trip</th>\n",
       "      <th>rental_access_method</th>\n",
       "      <th>duration_min</th>\n",
       "      <th>duration_hr</th>\n",
       "      <th>start_hour</th>\n",
       "      <th>start_combo</th>\n",
       "      <th>end_combo</th>\n",
       "      <th>return_trip</th>\n",
       "      <th>week_day</th>\n",
       "    </tr>\n",
       "  </thead>\n",
       "  <tbody>\n",
       "    <tr>\n",
       "      <th>7</th>\n",
       "      <td>4038</td>\n",
       "      <td>2020-01-31 23:32:03.907</td>\n",
       "      <td>2020-02-01 00:39:22.0210</td>\n",
       "      <td>450.0</td>\n",
       "      <td>Funston Ave at Irving St</td>\n",
       "      <td>37.763934</td>\n",
       "      <td>-122.470651</td>\n",
       "      <td>450.0</td>\n",
       "      <td>Funston Ave at Irving St</td>\n",
       "      <td>37.763934</td>\n",
       "      <td>...</td>\n",
       "      <td>Customer</td>\n",
       "      <td>No</td>\n",
       "      <td>NaN</td>\n",
       "      <td>67.300000</td>\n",
       "      <td>1.121667</td>\n",
       "      <td>23</td>\n",
       "      <td>37.7639340252,-122.4706506729</td>\n",
       "      <td>37.7639340252,-122.4706506729</td>\n",
       "      <td>True</td>\n",
       "      <td>4</td>\n",
       "    </tr>\n",
       "    <tr>\n",
       "      <th>8</th>\n",
       "      <td>4059</td>\n",
       "      <td>2020-01-31 23:31:01.161</td>\n",
       "      <td>2020-02-01 00:38:40.8570</td>\n",
       "      <td>450.0</td>\n",
       "      <td>Funston Ave at Irving St</td>\n",
       "      <td>37.763934</td>\n",
       "      <td>-122.470651</td>\n",
       "      <td>450.0</td>\n",
       "      <td>Funston Ave at Irving St</td>\n",
       "      <td>37.763934</td>\n",
       "      <td>...</td>\n",
       "      <td>Customer</td>\n",
       "      <td>No</td>\n",
       "      <td>NaN</td>\n",
       "      <td>67.650000</td>\n",
       "      <td>1.127500</td>\n",
       "      <td>23</td>\n",
       "      <td>37.7639340252,-122.4706506729</td>\n",
       "      <td>37.7639340252,-122.4706506729</td>\n",
       "      <td>True</td>\n",
       "      <td>4</td>\n",
       "    </tr>\n",
       "    <tr>\n",
       "      <th>1325</th>\n",
       "      <td>3825</td>\n",
       "      <td>2020-01-31 16:38:34.293</td>\n",
       "      <td>2020-01-31 17:42:19.4400</td>\n",
       "      <td>441.0</td>\n",
       "      <td>Chestnut St at Van Ness Ave</td>\n",
       "      <td>37.802288</td>\n",
       "      <td>-122.424509</td>\n",
       "      <td>399.0</td>\n",
       "      <td>Bay St at Fillmore St</td>\n",
       "      <td>37.802636</td>\n",
       "      <td>...</td>\n",
       "      <td>Customer</td>\n",
       "      <td>No</td>\n",
       "      <td>NaN</td>\n",
       "      <td>63.750000</td>\n",
       "      <td>1.062500</td>\n",
       "      <td>16</td>\n",
       "      <td>37.8022883861,-122.42450863120001</td>\n",
       "      <td>37.8026359497,-122.4362888932</td>\n",
       "      <td>False</td>\n",
       "      <td>4</td>\n",
       "    </tr>\n",
       "    <tr>\n",
       "      <th>1328</th>\n",
       "      <td>3994</td>\n",
       "      <td>2020-01-31 16:35:02.154</td>\n",
       "      <td>2020-01-31 17:41:36.1780</td>\n",
       "      <td>441.0</td>\n",
       "      <td>Chestnut St at Van Ness Ave</td>\n",
       "      <td>37.802288</td>\n",
       "      <td>-122.424509</td>\n",
       "      <td>399.0</td>\n",
       "      <td>Bay St at Fillmore St</td>\n",
       "      <td>37.802636</td>\n",
       "      <td>...</td>\n",
       "      <td>Customer</td>\n",
       "      <td>No</td>\n",
       "      <td>NaN</td>\n",
       "      <td>66.566667</td>\n",
       "      <td>1.109444</td>\n",
       "      <td>16</td>\n",
       "      <td>37.8022883861,-122.42450863120001</td>\n",
       "      <td>37.8026359497,-122.4362888932</td>\n",
       "      <td>False</td>\n",
       "      <td>4</td>\n",
       "    </tr>\n",
       "    <tr>\n",
       "      <th>2209</th>\n",
       "      <td>3934</td>\n",
       "      <td>2020-01-31 13:50:07.339</td>\n",
       "      <td>2020-01-31 14:55:41.3650</td>\n",
       "      <td>160.0</td>\n",
       "      <td>West Oakland BART Station</td>\n",
       "      <td>37.805318</td>\n",
       "      <td>-122.294837</td>\n",
       "      <td>187.0</td>\n",
       "      <td>Jack London Square</td>\n",
       "      <td>37.796248</td>\n",
       "      <td>...</td>\n",
       "      <td>Customer</td>\n",
       "      <td>No</td>\n",
       "      <td>NaN</td>\n",
       "      <td>65.566667</td>\n",
       "      <td>1.092778</td>\n",
       "      <td>13</td>\n",
       "      <td>37.805318299999996,-122.2948365</td>\n",
       "      <td>37.796248,-122.279352</td>\n",
       "      <td>False</td>\n",
       "      <td>4</td>\n",
       "    </tr>\n",
       "  </tbody>\n",
       "</table>\n",
       "<p>5 rows × 22 columns</p>\n",
       "</div>"
      ],
      "text/plain": [
       "      duration_sec              start_time                  end_time  \\\n",
       "7             4038 2020-01-31 23:32:03.907  2020-02-01 00:39:22.0210   \n",
       "8             4059 2020-01-31 23:31:01.161  2020-02-01 00:38:40.8570   \n",
       "1325          3825 2020-01-31 16:38:34.293  2020-01-31 17:42:19.4400   \n",
       "1328          3994 2020-01-31 16:35:02.154  2020-01-31 17:41:36.1780   \n",
       "2209          3934 2020-01-31 13:50:07.339  2020-01-31 14:55:41.3650   \n",
       "\n",
       "      start_station_id           start_station_name  start_station_latitude  \\\n",
       "7                450.0     Funston Ave at Irving St               37.763934   \n",
       "8                450.0     Funston Ave at Irving St               37.763934   \n",
       "1325             441.0  Chestnut St at Van Ness Ave               37.802288   \n",
       "1328             441.0  Chestnut St at Van Ness Ave               37.802288   \n",
       "2209             160.0    West Oakland BART Station               37.805318   \n",
       "\n",
       "      start_station_longitude  end_station_id          end_station_name  \\\n",
       "7                 -122.470651           450.0  Funston Ave at Irving St   \n",
       "8                 -122.470651           450.0  Funston Ave at Irving St   \n",
       "1325              -122.424509           399.0     Bay St at Fillmore St   \n",
       "1328              -122.424509           399.0     Bay St at Fillmore St   \n",
       "2209              -122.294837           187.0        Jack London Square   \n",
       "\n",
       "      end_station_latitude  ...  user_type  bike_share_for_all_trip  \\\n",
       "7                37.763934  ...   Customer                       No   \n",
       "8                37.763934  ...   Customer                       No   \n",
       "1325             37.802636  ...   Customer                       No   \n",
       "1328             37.802636  ...   Customer                       No   \n",
       "2209             37.796248  ...   Customer                       No   \n",
       "\n",
       "     rental_access_method duration_min duration_hr  start_hour  \\\n",
       "7                     NaN    67.300000    1.121667          23   \n",
       "8                     NaN    67.650000    1.127500          23   \n",
       "1325                  NaN    63.750000    1.062500          16   \n",
       "1328                  NaN    66.566667    1.109444          16   \n",
       "2209                  NaN    65.566667    1.092778          13   \n",
       "\n",
       "                            start_combo                      end_combo  \\\n",
       "7         37.7639340252,-122.4706506729  37.7639340252,-122.4706506729   \n",
       "8         37.7639340252,-122.4706506729  37.7639340252,-122.4706506729   \n",
       "1325  37.8022883861,-122.42450863120001  37.8026359497,-122.4362888932   \n",
       "1328  37.8022883861,-122.42450863120001  37.8026359497,-122.4362888932   \n",
       "2209    37.805318299999996,-122.2948365          37.796248,-122.279352   \n",
       "\n",
       "     return_trip week_day  \n",
       "7           True        4  \n",
       "8           True        4  \n",
       "1325       False        4  \n",
       "1328       False        4  \n",
       "2209       False        4  \n",
       "\n",
       "[5 rows x 22 columns]"
      ]
     },
     "execution_count": 59,
     "metadata": {},
     "output_type": "execute_result"
    }
   ],
   "source": [
    "odd_min_df.head()"
   ]
  },
  {
   "cell_type": "code",
   "execution_count": 60,
   "metadata": {},
   "outputs": [
    {
     "data": {
      "text/plain": [
       "(978, 22)"
      ]
     },
     "execution_count": 60,
     "metadata": {},
     "output_type": "execute_result"
    }
   ],
   "source": [
    "odd_min_df.shape"
   ]
  },
  {
   "cell_type": "markdown",
   "metadata": {},
   "source": [
    "I want to use histogram to see the distribution of this odd group|"
   ]
  },
  {
   "cell_type": "code",
   "execution_count": 61,
   "metadata": {},
   "outputs": [
    {
     "data": {
      "image/png": "[encoded data removed]",
      "text/plain": [
       "<Figure size 432x288 with 1 Axes>"
      ]
     },
     "metadata": {
      "needs_background": "light"
     },
     "output_type": "display_data"
    }
   ],
   "source": [
    "figsize=[8,8]\n",
    "binsize = np.arange(61,69,0.2)\n",
    "plt.hist(data=odd_min_df, x='duration_min',bins = binsize,alpha = 0.7)\n",
    "plt.title('Distribution of bike usage in minutes ')\n",
    "plt.xlabel('Duration (min)')\n",
    "plt.ylabel('Count')\n",
    "plt.show()"
   ]
  },
  {
   "cell_type": "markdown",
   "metadata": {},
   "source": [
    ">It seems like the peak was at 65 minutes. Now I am very curious. I decided to look at the pick-up and drop-off location for rental period between 65 and 66 minutes. I am going to take a further step and take a closer look"
   ]
  },
  {
   "cell_type": "code",
   "execution_count": 62,
   "metadata": {},
   "outputs": [],
   "source": [
    "odd_min_deep = (tripdata_cleaned['duration_min'] >= 65) & (tripdata_cleaned['duration_min'] <= 66)"
   ]
  },
  {
   "cell_type": "code",
   "execution_count": 63,
   "metadata": {},
   "outputs": [],
   "source": [
    "odd_min_deep_df = tripdata_cleaned.loc[odd_min_deep,:]"
   ]
  },
  {
   "cell_type": "code",
   "execution_count": 64,
   "metadata": {},
   "outputs": [
    {
     "data": {
      "text/html": [
       "<div>\n",
       "<style scoped>\n",
       "    .dataframe tbody tr th:only-of-type {\n",
       "        vertical-align: middle;\n",
       "    }\n",
       "\n",
       "    .dataframe tbody tr th {\n",
       "        vertical-align: top;\n",
       "    }\n",
       "\n",
       "    .dataframe thead th {\n",
       "        text-align: right;\n",
       "    }\n",
       "</style>\n",
       "<table border=\"1\" class=\"dataframe\">\n",
       "  <thead>\n",
       "    <tr style=\"text-align: right;\">\n",
       "      <th></th>\n",
       "      <th>duration_sec</th>\n",
       "      <th>start_time</th>\n",
       "      <th>end_time</th>\n",
       "      <th>start_station_id</th>\n",
       "      <th>start_station_name</th>\n",
       "      <th>start_station_latitude</th>\n",
       "      <th>start_station_longitude</th>\n",
       "      <th>end_station_id</th>\n",
       "      <th>end_station_name</th>\n",
       "      <th>end_station_latitude</th>\n",
       "      <th>...</th>\n",
       "      <th>user_type</th>\n",
       "      <th>bike_share_for_all_trip</th>\n",
       "      <th>rental_access_method</th>\n",
       "      <th>duration_min</th>\n",
       "      <th>duration_hr</th>\n",
       "      <th>start_hour</th>\n",
       "      <th>start_combo</th>\n",
       "      <th>end_combo</th>\n",
       "      <th>return_trip</th>\n",
       "      <th>week_day</th>\n",
       "    </tr>\n",
       "  </thead>\n",
       "  <tbody>\n",
       "    <tr>\n",
       "      <th>2209</th>\n",
       "      <td>3934</td>\n",
       "      <td>2020-01-31 13:50:07.339</td>\n",
       "      <td>2020-01-31 14:55:41.3650</td>\n",
       "      <td>160.0</td>\n",
       "      <td>West Oakland BART Station</td>\n",
       "      <td>37.805318</td>\n",
       "      <td>-122.294837</td>\n",
       "      <td>187.0</td>\n",
       "      <td>Jack London Square</td>\n",
       "      <td>37.796248</td>\n",
       "      <td>...</td>\n",
       "      <td>Customer</td>\n",
       "      <td>No</td>\n",
       "      <td>NaN</td>\n",
       "      <td>65.566667</td>\n",
       "      <td>1.092778</td>\n",
       "      <td>13</td>\n",
       "      <td>37.805318299999996,-122.2948365</td>\n",
       "      <td>37.796248,-122.279352</td>\n",
       "      <td>False</td>\n",
       "      <td>4</td>\n",
       "    </tr>\n",
       "    <tr>\n",
       "      <th>6611</th>\n",
       "      <td>3927</td>\n",
       "      <td>2020-01-30 12:38:19.804</td>\n",
       "      <td>2020-01-30 13:43:47.7680</td>\n",
       "      <td>15.0</td>\n",
       "      <td>San Francisco Ferry Building (Harry Bridges Pl...</td>\n",
       "      <td>37.795392</td>\n",
       "      <td>-122.394203</td>\n",
       "      <td>6.0</td>\n",
       "      <td>The Embarcadero at Sansome St</td>\n",
       "      <td>37.804770</td>\n",
       "      <td>...</td>\n",
       "      <td>Customer</td>\n",
       "      <td>No</td>\n",
       "      <td>NaN</td>\n",
       "      <td>65.450000</td>\n",
       "      <td>1.090833</td>\n",
       "      <td>12</td>\n",
       "      <td>37.795392,-122.394203</td>\n",
       "      <td>37.80477,-122.40323400000001</td>\n",
       "      <td>False</td>\n",
       "      <td>3</td>\n",
       "    </tr>\n",
       "    <tr>\n",
       "      <th>6613</th>\n",
       "      <td>3900</td>\n",
       "      <td>2020-01-30 12:38:27.666</td>\n",
       "      <td>2020-01-30 13:43:27.6880</td>\n",
       "      <td>15.0</td>\n",
       "      <td>San Francisco Ferry Building (Harry Bridges Pl...</td>\n",
       "      <td>37.795392</td>\n",
       "      <td>-122.394203</td>\n",
       "      <td>6.0</td>\n",
       "      <td>The Embarcadero at Sansome St</td>\n",
       "      <td>37.804770</td>\n",
       "      <td>...</td>\n",
       "      <td>Customer</td>\n",
       "      <td>No</td>\n",
       "      <td>NaN</td>\n",
       "      <td>65.000000</td>\n",
       "      <td>1.083333</td>\n",
       "      <td>12</td>\n",
       "      <td>37.795392,-122.394203</td>\n",
       "      <td>37.80477,-122.40323400000001</td>\n",
       "      <td>False</td>\n",
       "      <td>3</td>\n",
       "    </tr>\n",
       "    <tr>\n",
       "      <th>18573</th>\n",
       "      <td>3930</td>\n",
       "      <td>2020-01-27 13:24:39.457</td>\n",
       "      <td>2020-01-27 14:30:10.3690</td>\n",
       "      <td>164.0</td>\n",
       "      <td>Isabella St at San Pablo Ave</td>\n",
       "      <td>37.814988</td>\n",
       "      <td>-122.274844</td>\n",
       "      <td>164.0</td>\n",
       "      <td>Isabella St at San Pablo Ave</td>\n",
       "      <td>37.814988</td>\n",
       "      <td>...</td>\n",
       "      <td>Customer</td>\n",
       "      <td>No</td>\n",
       "      <td>NaN</td>\n",
       "      <td>65.500000</td>\n",
       "      <td>1.091667</td>\n",
       "      <td>13</td>\n",
       "      <td>37.8149882304,-122.2748440504</td>\n",
       "      <td>37.8149882304,-122.2748440504</td>\n",
       "      <td>True</td>\n",
       "      <td>0</td>\n",
       "    </tr>\n",
       "    <tr>\n",
       "      <th>21014</th>\n",
       "      <td>3937</td>\n",
       "      <td>2020-01-26 16:36:55.071</td>\n",
       "      <td>2020-01-26 17:42:32.9020</td>\n",
       "      <td>44.0</td>\n",
       "      <td>Civic Center/UN Plaza BART Station (Market St ...</td>\n",
       "      <td>37.781074</td>\n",
       "      <td>-122.411738</td>\n",
       "      <td>436.0</td>\n",
       "      <td>McKinnon Ave at 3rd St</td>\n",
       "      <td>37.736296</td>\n",
       "      <td>...</td>\n",
       "      <td>Customer</td>\n",
       "      <td>No</td>\n",
       "      <td>NaN</td>\n",
       "      <td>65.616667</td>\n",
       "      <td>1.093611</td>\n",
       "      <td>16</td>\n",
       "      <td>37.7810737,-122.4117382</td>\n",
       "      <td>37.736295872199996,-122.38996982569999</td>\n",
       "      <td>False</td>\n",
       "      <td>6</td>\n",
       "    </tr>\n",
       "  </tbody>\n",
       "</table>\n",
       "<p>5 rows × 22 columns</p>\n",
       "</div>"
      ],
      "text/plain": [
       "       duration_sec              start_time                  end_time  \\\n",
       "2209           3934 2020-01-31 13:50:07.339  2020-01-31 14:55:41.3650   \n",
       "6611           3927 2020-01-30 12:38:19.804  2020-01-30 13:43:47.7680   \n",
       "6613           3900 2020-01-30 12:38:27.666  2020-01-30 13:43:27.6880   \n",
       "18573          3930 2020-01-27 13:24:39.457  2020-01-27 14:30:10.3690   \n",
       "21014          3937 2020-01-26 16:36:55.071  2020-01-26 17:42:32.9020   \n",
       "\n",
       "       start_station_id                                 start_station_name  \\\n",
       "2209              160.0                          West Oakland BART Station   \n",
       "6611               15.0  San Francisco Ferry Building (Harry Bridges Pl...   \n",
       "6613               15.0  San Francisco Ferry Building (Harry Bridges Pl...   \n",
       "18573             164.0                       Isabella St at San Pablo Ave   \n",
       "21014              44.0  Civic Center/UN Plaza BART Station (Market St ...   \n",
       "\n",
       "       start_station_latitude  start_station_longitude  end_station_id  \\\n",
       "2209                37.805318              -122.294837           187.0   \n",
       "6611                37.795392              -122.394203             6.0   \n",
       "6613                37.795392              -122.394203             6.0   \n",
       "18573               37.814988              -122.274844           164.0   \n",
       "21014               37.781074              -122.411738           436.0   \n",
       "\n",
       "                    end_station_name  end_station_latitude  ...  user_type  \\\n",
       "2209              Jack London Square             37.796248  ...   Customer   \n",
       "6611   The Embarcadero at Sansome St             37.804770  ...   Customer   \n",
       "6613   The Embarcadero at Sansome St             37.804770  ...   Customer   \n",
       "18573   Isabella St at San Pablo Ave             37.814988  ...   Customer   \n",
       "21014         McKinnon Ave at 3rd St             37.736296  ...   Customer   \n",
       "\n",
       "       bike_share_for_all_trip rental_access_method duration_min duration_hr  \\\n",
       "2209                        No                  NaN    65.566667    1.092778   \n",
       "6611                        No                  NaN    65.450000    1.090833   \n",
       "6613                        No                  NaN    65.000000    1.083333   \n",
       "18573                       No                  NaN    65.500000    1.091667   \n",
       "21014                       No                  NaN    65.616667    1.093611   \n",
       "\n",
       "       start_hour                      start_combo  \\\n",
       "2209           13  37.805318299999996,-122.2948365   \n",
       "6611           12            37.795392,-122.394203   \n",
       "6613           12            37.795392,-122.394203   \n",
       "18573          13    37.8149882304,-122.2748440504   \n",
       "21014          16          37.7810737,-122.4117382   \n",
       "\n",
       "                                    end_combo return_trip week_day  \n",
       "2209                    37.796248,-122.279352       False        4  \n",
       "6611             37.80477,-122.40323400000001       False        3  \n",
       "6613             37.80477,-122.40323400000001       False        3  \n",
       "18573           37.8149882304,-122.2748440504        True        0  \n",
       "21014  37.736295872199996,-122.38996982569999       False        6  \n",
       "\n",
       "[5 rows x 22 columns]"
      ]
     },
     "execution_count": 64,
     "metadata": {},
     "output_type": "execute_result"
    }
   ],
   "source": [
    "odd_min_deep_df.head()"
   ]
  },
  {
   "cell_type": "code",
   "execution_count": 131,
   "metadata": {},
   "outputs": [
    {
     "data": {
      "text/plain": [
       "False    0.989813\n",
       "True     0.010187\n",
       "Name: return_trip, dtype: float64"
      ]
     },
     "execution_count": 131,
     "metadata": {},
     "output_type": "execute_result"
    }
   ],
   "source": [
    "# I want to see the features of this odd group of data\n",
    "odd_min_deep_df.return_trip.value_counts()/odd_min_deep_df.shape[0]"
   ]
  },
  {
   "cell_type": "code",
   "execution_count": 132,
   "metadata": {},
   "outputs": [
    {
     "data": {
      "text/plain": [
       "37.795392,-122.394203                     5\n",
       "37.7809545996,-122.3997491598             4\n",
       "37.789756,-122.39464299999999             4\n",
       "37.772406,-122.4356498                    3\n",
       "37.7858806269,-122.4089150084             3\n",
       "37.77588,-122.39317                       3\n",
       "37.747299600000005,-122.41140290000001    3\n",
       "37.7616343,-122.3906477                   3\n",
       "37.7810737,-122.4117382                   3\n",
       "37.776598,-122.39528200000001             3\n",
       "37.8027461525,-122.41357862950001         2\n",
       "37.80477,-122.40323400000001              2\n",
       "37.335885,-121.88566000000002             2\n",
       "37.787290000000006,-122.39438             2\n",
       "37.7896254,-122.400811                    2\n",
       "37.78967670000001,-122.39042849999998     2\n",
       "37.7657829868,-122.4576365948             2\n",
       "37.8042232774,-122.40164279940001         2\n",
       "37.329732,-121.90178200000001             2\n",
       "37.7871680147,-122.3880979233             2\n",
       "37.7670445797,-122.390833497              2\n",
       "37.7913,-122.399051                       2\n",
       "37.796389399999995,-122.3945855           2\n",
       "37.7644783,-122.40257009999999            2\n",
       "37.800496036700004,-122.4108870327        2\n",
       "37.7604469,-122.410807                    2\n",
       "37.7719511,-122.4537048                   2\n",
       "37.3371223729,-121.88321471209998         2\n",
       "37.788975,-122.403452                     2\n",
       "37.7733108789,-122.4442926049             2\n",
       "                                         ..\n",
       "37.314043,-121.8656961667                 1\n",
       "37.7800375,-122.4139868333                1\n",
       "37.776604999999996,-122.4246033333        1\n",
       "37.7661208333,-122.46445633329999         1\n",
       "37.765052000000004,-122.42186609999999    1\n",
       "37.805142,-122.40285349999999             1\n",
       "37.7649425,-122.4207211667                1\n",
       "37.781481,-122.38998816670001             1\n",
       "37.7917886667,-122.4477983333             1\n",
       "37.7896135,-122.3880498333                1\n",
       "37.3337055,-121.9076503333                1\n",
       "37.7918035,-122.3933396667                1\n",
       "37.7924303333,-122.4052315                1\n",
       "37.7717573333,-122.40522050000001         1\n",
       "37.7877561667,-122.4206498333             1\n",
       "37.8011368333,-122.4480233333             1\n",
       "37.7838993571,-122.40844488139999         1\n",
       "37.7696741667,-122.5103621667             1\n",
       "37.805318299999996,-122.2948365           1\n",
       "37.803513,-122.4294828333                 1\n",
       "37.3175898333,-121.9106743333             1\n",
       "37.7737566667,-122.4669316667             1\n",
       "37.7711448333,-122.4244771667             1\n",
       "37.7800728333,-122.5092763333             1\n",
       "37.771980166700004,-122.4536351667        1\n",
       "37.7925676667,-122.40470116670001         1\n",
       "37.8056568333,-122.4205353333             1\n",
       "37.783485166700004,-122.40779099999999    1\n",
       "37.329958500000004,-121.8780108333        1\n",
       "37.7885263333,-122.4015018333             1\n",
       "Name: start_combo, Length: 540, dtype: int64"
      ]
     },
     "execution_count": 132,
     "metadata": {},
     "output_type": "execute_result"
    }
   ],
   "source": [
    "#Just checking if it is always coming from the same locations - just so I can understand if it is always the same renter\n",
    "odd_min_deep_df.start_combo.value_counts()"
   ]
  },
  {
   "cell_type": "markdown",
   "metadata": {},
   "source": [
    ">Seems like most pick-up and drop-off locations are different"
   ]
  },
  {
   "cell_type": "markdown",
   "metadata": {},
   "source": [
    "#### I am going to look at the user type of this segement of data"
   ]
  },
  {
   "cell_type": "code",
   "execution_count": 67,
   "metadata": {},
   "outputs": [
    {
     "data": {
      "text/plain": [
       "Subscriber    0.650255\n",
       "Customer      0.349745\n",
       "Name: user_type, dtype: float64"
      ]
     },
     "execution_count": 67,
     "metadata": {},
     "output_type": "execute_result"
    }
   ],
   "source": [
    "odd_min_deep_df.user_type.value_counts()/odd_min_deep_df.shape[0]"
   ]
  },
  {
   "cell_type": "markdown",
   "metadata": {},
   "source": [
    ">Initially I thought maybe it was from the same user who would likely be renting bikes regularly and frequently, who would likely have the same start location. However, it seemed like my assumption was wrong and I couldn't find an obviously explanation for this odd group of data. "
   ]
  },
  {
   "cell_type": "markdown",
   "metadata": {},
   "source": [
    "#### I am also going to look at the start hour of this odd group"
   ]
  },
  {
   "cell_type": "code",
   "execution_count": 68,
   "metadata": {},
   "outputs": [
    {
     "data": {
      "text/plain": [
       "12    54\n",
       "13    54\n",
       "16    45\n",
       "17    44\n",
       "15    42\n",
       "8     37\n",
       "11    36\n",
       "14    33\n",
       "19    33\n",
       "18    31\n",
       "9     30\n",
       "10    27\n",
       "7     21\n",
       "21    16\n",
       "20    12\n",
       "6     11\n",
       "1     11\n",
       "23    10\n",
       "22    10\n",
       "5      9\n",
       "2      8\n",
       "4      6\n",
       "0      5\n",
       "3      4\n",
       "Name: start_hour, dtype: int64"
      ]
     },
     "execution_count": 68,
     "metadata": {},
     "output_type": "execute_result"
    }
   ],
   "source": [
    "odd_min_deep_df.start_hour.value_counts()"
   ]
  },
  {
   "cell_type": "code",
   "execution_count": 90,
   "metadata": {},
   "outputs": [
    {
     "data": {
      "image/png": "[encoded data removed]",
      "text/plain": [
       "<Figure size 432x288 with 1 Axes>"
      ]
     },
     "metadata": {
      "needs_background": "light"
     },
     "output_type": "display_data"
    }
   ],
   "source": [
    "sb.countplot(data=odd_min_deep_df,x='start_hour',color = 'peachpuff')\n",
    "plt.title('Start hour with rental duration  between 65 and 66 minutes')\n",
    "plt.xlabel('Start Hour (24hrs)')\n",
    "plt.ylabel('Count')\n",
    "plt.show()"
   ]
  },
  {
   "cell_type": "markdown",
   "metadata": {},
   "source": [
    ">This is interesting - from the full dataset, the peak time for rental were in the morning at around 8am and in late afternoon at around 5pm. For this group of users, the peak time was at aroud noon. "
   ]
  },
  {
   "cell_type": "markdown",
   "metadata": {},
   "source": [
    "## Multivariate Exploration"
   ]
  },
  {
   "cell_type": "markdown",
   "metadata": {},
   "source": [
    "#### I want to look at the relationship between duration_min, user_type and week_day."
   ]
  },
  {
   "cell_type": "code",
   "execution_count": 70,
   "metadata": {},
   "outputs": [
    {
     "data": {
      "text/plain": [
       "week_day  user_type \n",
       "0         Customer      12.286517\n",
       "          Subscriber    11.569948\n",
       "1         Customer      11.329342\n",
       "          Subscriber    11.125385\n",
       "2         Customer      12.038064\n",
       "          Subscriber    11.532232\n",
       "3         Customer      11.722386\n",
       "          Subscriber    11.375966\n",
       "4         Customer      12.350276\n",
       "          Subscriber    11.812828\n",
       "5         Customer      15.892708\n",
       "          Subscriber    12.983589\n",
       "6         Customer      16.174247\n",
       "          Subscriber    12.760689\n",
       "Name: duration_min, dtype: float64"
      ]
     },
     "execution_count": 70,
     "metadata": {},
     "output_type": "execute_result"
    }
   ],
   "source": [
    "tripdata_cleaned.groupby(['week_day','user_type']).mean()['duration_min']"
   ]
  },
  {
   "cell_type": "code",
   "execution_count": 71,
   "metadata": {},
   "outputs": [
    {
     "data": {
      "text/plain": [
       "Subscriber    170799\n",
       "Customer      124049\n",
       "Name: user_type, dtype: int64"
      ]
     },
     "execution_count": 71,
     "metadata": {},
     "output_type": "execute_result"
    }
   ],
   "source": [
    "tripdata_cleaned.user_type.value_counts()"
   ]
  },
  {
   "cell_type": "code",
   "execution_count": 72,
   "metadata": {},
   "outputs": [
    {
     "data": {
      "text/plain": [
       "4    56076\n",
       "2    52607\n",
       "3    51167\n",
       "1    41878\n",
       "0    39574\n",
       "5    28272\n",
       "6    25274\n",
       "Name: week_day, dtype: int64"
      ]
     },
     "execution_count": 72,
     "metadata": {},
     "output_type": "execute_result"
    }
   ],
   "source": [
    "tripdata_cleaned.week_day.value_counts()"
   ]
  },
  {
   "cell_type": "markdown",
   "metadata": {},
   "source": [
    "#### I decided I am going to use facetgrid to see the trend of rental duration by user type of different week day"
   ]
  },
  {
   "cell_type": "code",
   "execution_count": 73,
   "metadata": {},
   "outputs": [
    {
     "name": "stderr",
     "output_type": "stream",
     "text": [
      "/Users/winnietong/anaconda3/lib/python3.7/site-packages/seaborn/axisgrid.py:230: UserWarning: The `size` paramter has been renamed to `height`; please update your code.\n",
      "  warnings.warn(msg, UserWarning)\n"
     ]
    },
    {
     "data": {
      "image/png": "[encoded data removed]",
      "text/plain": [
       "<Figure size 1241.12x576 with 7 Axes>"
      ]
     },
     "metadata": {
      "needs_background": "light"
     },
     "output_type": "display_data"
    }
   ],
   "source": [
    "\n",
    "type_colour = {'Customer': '#e35675', 'Subscriber': '#9d9d9d'}\n",
    "g = sb.FacetGrid(data = tripdata_cleaned, col = 'week_day',hue='user_type', col_wrap = 4, size = 4,palette= type_colour)\n",
    "g.map(plt.hist, \"duration_min\",bins = np.arange(0,60, 5),alpha = 0.4 )\n",
    "g.set_axis_labels(x_var=\"Duration (min)\", y_var=\"Count\").add_legend(title='User Type')\n",
    "g.fig.subplots_adjust(top=0.9)\n",
    "g.fig.suptitle('Number of bike rentals by week day and user type', fontsize=18)\n",
    "plt.show()\n"
   ]
  },
  {
   "cell_type": "markdown",
   "metadata": {},
   "source": [
    ">It appears that the two user groups followed the same trajectory on different days during the week, there is nothing particularly special about it."
   ]
  },
  {
   "cell_type": "markdown",
   "metadata": {},
   "source": [
    "#### I am going to use the average duration of rental to observe relationship between week day and user type instead"
   ]
  },
  {
   "cell_type": "code",
   "execution_count": 133,
   "metadata": {},
   "outputs": [
    {
     "data": {
      "image/png": "[encoded data removed]",
      "text/plain": [
       "<Figure size 432x288 with 1 Axes>"
      ]
     },
     "metadata": {
      "needs_background": "light"
     },
     "output_type": "display_data"
    }
   ],
   "source": [
    "fig, ax = plt.subplots(1,1) \n",
    "sb.pointplot(data = tripdata_cleaned, x = 'week_day', y = 'duration_min',hue='user_type', linestyles = \"\",  palette = 'Blues')\n",
    "plt.title('Average duration (min) by week day and user type ')\n",
    "plt.xlabel('Week Day')\n",
    "plt.ylabel('Avg. duration (min)') \n",
    "x = np.arange(0,7,1)\n",
    "x_ticks_labels = ['Sun','Mon','Tue','Wed','Thu','Fri','Sat']\n",
    "\n",
    "# Set number of ticks for x-axis\n",
    "ax.set_xticks(x)\n",
    "# Set ticks labels for x-axis\n",
    "ax.set_xticklabels(x_ticks_labels, rotation=15, fontsize=10)\n",
    "plt.show()"
   ]
  },
  {
   "cell_type": "markdown",
   "metadata": {},
   "source": [
    ">The point plot below shows intersting results. On average, from Sunday to Thursday, the average duration (min) between customers and subscribers are more or less the same. However, on Friday and Saturday, the average duration of customers is at around 3 minutes longer than that of subscribers. I wonder if it had anything to do with marketing promotions. It would be great if such kind of data was available so that we could conduct further correlation analysis. "
   ]
  },
  {
   "cell_type": "markdown",
   "metadata": {},
   "source": [
    "I want to quickly check the average rental duration for users who returned bike at the same or different depot"
   ]
  },
  {
   "cell_type": "code",
   "execution_count": 89,
   "metadata": {},
   "outputs": [
    {
     "data": {
      "image/png": "[encoded data removed]",
      "text/plain": [
       "<Figure size 432x288 with 1 Axes>"
      ]
     },
     "metadata": {
      "needs_background": "light"
     },
     "output_type": "display_data"
    }
   ],
   "source": [
    "fig, ax = plt.subplots(1,1) \n",
    "sb.pointplot(data = tripdata_cleaned, x = 'return_trip', y = 'duration_min', linestyles = \"\")\n",
    "plt.title('Average duration (min) by return location ')\n",
    "plt.xlabel('Return Trip')\n",
    "plt.ylabel('Avg. duration (min)') \n",
    "\n",
    "plt.show()"
   ]
  },
  {
   "cell_type": "markdown",
   "metadata": {},
   "source": [
    ">There is a huge difference in terms of average duration between same depot and different depot. The average duration for users who returned the bike at the same depot is 8 minutes longer than users who return the bike at a different depot."
   ]
  },
  {
   "cell_type": "markdown",
   "metadata": {},
   "source": [
    "#### Based on information I gathered above, I am going to use a point plot to find out the relationship between week day and return trip, in terms of the average duration of rental"
   ]
  },
  {
   "cell_type": "code",
   "execution_count": 134,
   "metadata": {},
   "outputs": [
    {
     "data": {
      "text/plain": [
       "week_day  return_trip\n",
       "0         False          11.786156\n",
       "          True           20.492894\n",
       "1         False          11.158902\n",
       "          True           17.709980\n",
       "2         False          11.674937\n",
       "          True           18.915095\n",
       "3         False          11.439944\n",
       "          True           19.263448\n",
       "4         False          11.963121\n",
       "          True           19.574212\n",
       "5         False          14.004683\n",
       "          True           24.859497\n",
       "6         False          13.870917\n",
       "          True           26.993302\n",
       "Name: duration_min, dtype: float64"
      ]
     },
     "execution_count": 134,
     "metadata": {},
     "output_type": "execute_result"
    }
   ],
   "source": [
    "#I want to use groupby to see the mean duration of different groups\n",
    "tripdata_cleaned.groupby(['week_day','return_trip']).mean()['duration_min']"
   ]
  },
  {
   "cell_type": "code",
   "execution_count": 91,
   "metadata": {},
   "outputs": [
    {
     "data": {
      "image/png": "[encoded data removed]",
      "text/plain": [
       "<Figure size 432x288 with 1 Axes>"
      ]
     },
     "metadata": {
      "needs_background": "light"
     },
     "output_type": "display_data"
    }
   ],
   "source": [
    "fig, ax = plt.subplots(1,1) \n",
    "sb.pointplot(data = tripdata_cleaned, x = 'week_day', y = 'duration_min',hue='return_trip', linestyles = \"\",  palette = 'Greens')\n",
    "plt.title('Average duration (min) by week day and return location ')\n",
    "plt.xlabel('Week Day')\n",
    "plt.ylabel('Avg. duration (min)') \n",
    "x = np.arange(0,7,1)\n",
    "x_ticks_labels = ['Sun','Mon','Tue','Wed','Thu','Fri','Sat']\n",
    "\n",
    "# Set number of ticks for x-axis\n",
    "ax.set_xticks(x)\n",
    "# Set ticks labels for x-axis\n",
    "ax.set_xticklabels(x_ticks_labels, rotation=15, fontsize=10)\n",
    "plt.show()"
   ]
  },
  {
   "cell_type": "code",
   "execution_count": 78,
   "metadata": {},
   "outputs": [
    {
     "data": {
      "text/plain": [
       "count    294848.000000\n",
       "mean         12.146997\n",
       "std           9.722978\n",
       "min           1.000000\n",
       "25%           6.133333\n",
       "50%           9.783333\n",
       "75%          15.116667\n",
       "max          99.933333\n",
       "Name: duration_min, dtype: float64"
      ]
     },
     "execution_count": 78,
     "metadata": {},
     "output_type": "execute_result"
    }
   ],
   "source": [
    "tripdata_cleaned.duration_min.describe()"
   ]
  },
  {
   "cell_type": "markdown",
   "metadata": {},
   "source": [
    ">There are interesting findings here - users who returned the bike to the same location had a longer average duration (at least 17.5 minutes), while users who returned the bike at a different location had hired the bike for a shorter average duraton of rental. The time duration was particularly high on Friday and Saturday.\n",
    "However, I wonder if the longer duration had to do with unusual group of users who constantly hired for around 65 minutes. "
   ]
  },
  {
   "cell_type": "markdown",
   "metadata": {},
   "source": [
    "#### I want to analyse the odd groups of users who contantly rented bikes for 65 minutes"
   ]
  },
  {
   "cell_type": "code",
   "execution_count": 79,
   "metadata": {},
   "outputs": [
    {
     "data": {
      "text/html": [
       "<div>\n",
       "<style scoped>\n",
       "    .dataframe tbody tr th:only-of-type {\n",
       "        vertical-align: middle;\n",
       "    }\n",
       "\n",
       "    .dataframe tbody tr th {\n",
       "        vertical-align: top;\n",
       "    }\n",
       "\n",
       "    .dataframe thead th {\n",
       "        text-align: right;\n",
       "    }\n",
       "</style>\n",
       "<table border=\"1\" class=\"dataframe\">\n",
       "  <thead>\n",
       "    <tr style=\"text-align: right;\">\n",
       "      <th></th>\n",
       "      <th>duration_sec</th>\n",
       "      <th>start_time</th>\n",
       "      <th>end_time</th>\n",
       "      <th>start_station_id</th>\n",
       "      <th>start_station_name</th>\n",
       "      <th>start_station_latitude</th>\n",
       "      <th>start_station_longitude</th>\n",
       "      <th>end_station_id</th>\n",
       "      <th>end_station_name</th>\n",
       "      <th>end_station_latitude</th>\n",
       "      <th>...</th>\n",
       "      <th>user_type</th>\n",
       "      <th>bike_share_for_all_trip</th>\n",
       "      <th>rental_access_method</th>\n",
       "      <th>duration_min</th>\n",
       "      <th>duration_hr</th>\n",
       "      <th>start_hour</th>\n",
       "      <th>start_combo</th>\n",
       "      <th>end_combo</th>\n",
       "      <th>return_trip</th>\n",
       "      <th>week_day</th>\n",
       "    </tr>\n",
       "  </thead>\n",
       "  <tbody>\n",
       "    <tr>\n",
       "      <th>2209</th>\n",
       "      <td>3934</td>\n",
       "      <td>2020-01-31 13:50:07.339</td>\n",
       "      <td>2020-01-31 14:55:41.3650</td>\n",
       "      <td>160.0</td>\n",
       "      <td>West Oakland BART Station</td>\n",
       "      <td>37.805318</td>\n",
       "      <td>-122.294837</td>\n",
       "      <td>187.0</td>\n",
       "      <td>Jack London Square</td>\n",
       "      <td>37.796248</td>\n",
       "      <td>...</td>\n",
       "      <td>Customer</td>\n",
       "      <td>No</td>\n",
       "      <td>NaN</td>\n",
       "      <td>65.566667</td>\n",
       "      <td>1.092778</td>\n",
       "      <td>13</td>\n",
       "      <td>37.805318299999996,-122.2948365</td>\n",
       "      <td>37.796248,-122.279352</td>\n",
       "      <td>False</td>\n",
       "      <td>4</td>\n",
       "    </tr>\n",
       "    <tr>\n",
       "      <th>6611</th>\n",
       "      <td>3927</td>\n",
       "      <td>2020-01-30 12:38:19.804</td>\n",
       "      <td>2020-01-30 13:43:47.7680</td>\n",
       "      <td>15.0</td>\n",
       "      <td>San Francisco Ferry Building (Harry Bridges Pl...</td>\n",
       "      <td>37.795392</td>\n",
       "      <td>-122.394203</td>\n",
       "      <td>6.0</td>\n",
       "      <td>The Embarcadero at Sansome St</td>\n",
       "      <td>37.804770</td>\n",
       "      <td>...</td>\n",
       "      <td>Customer</td>\n",
       "      <td>No</td>\n",
       "      <td>NaN</td>\n",
       "      <td>65.450000</td>\n",
       "      <td>1.090833</td>\n",
       "      <td>12</td>\n",
       "      <td>37.795392,-122.394203</td>\n",
       "      <td>37.80477,-122.40323400000001</td>\n",
       "      <td>False</td>\n",
       "      <td>3</td>\n",
       "    </tr>\n",
       "    <tr>\n",
       "      <th>6613</th>\n",
       "      <td>3900</td>\n",
       "      <td>2020-01-30 12:38:27.666</td>\n",
       "      <td>2020-01-30 13:43:27.6880</td>\n",
       "      <td>15.0</td>\n",
       "      <td>San Francisco Ferry Building (Harry Bridges Pl...</td>\n",
       "      <td>37.795392</td>\n",
       "      <td>-122.394203</td>\n",
       "      <td>6.0</td>\n",
       "      <td>The Embarcadero at Sansome St</td>\n",
       "      <td>37.804770</td>\n",
       "      <td>...</td>\n",
       "      <td>Customer</td>\n",
       "      <td>No</td>\n",
       "      <td>NaN</td>\n",
       "      <td>65.000000</td>\n",
       "      <td>1.083333</td>\n",
       "      <td>12</td>\n",
       "      <td>37.795392,-122.394203</td>\n",
       "      <td>37.80477,-122.40323400000001</td>\n",
       "      <td>False</td>\n",
       "      <td>3</td>\n",
       "    </tr>\n",
       "    <tr>\n",
       "      <th>18573</th>\n",
       "      <td>3930</td>\n",
       "      <td>2020-01-27 13:24:39.457</td>\n",
       "      <td>2020-01-27 14:30:10.3690</td>\n",
       "      <td>164.0</td>\n",
       "      <td>Isabella St at San Pablo Ave</td>\n",
       "      <td>37.814988</td>\n",
       "      <td>-122.274844</td>\n",
       "      <td>164.0</td>\n",
       "      <td>Isabella St at San Pablo Ave</td>\n",
       "      <td>37.814988</td>\n",
       "      <td>...</td>\n",
       "      <td>Customer</td>\n",
       "      <td>No</td>\n",
       "      <td>NaN</td>\n",
       "      <td>65.500000</td>\n",
       "      <td>1.091667</td>\n",
       "      <td>13</td>\n",
       "      <td>37.8149882304,-122.2748440504</td>\n",
       "      <td>37.8149882304,-122.2748440504</td>\n",
       "      <td>True</td>\n",
       "      <td>0</td>\n",
       "    </tr>\n",
       "    <tr>\n",
       "      <th>21014</th>\n",
       "      <td>3937</td>\n",
       "      <td>2020-01-26 16:36:55.071</td>\n",
       "      <td>2020-01-26 17:42:32.9020</td>\n",
       "      <td>44.0</td>\n",
       "      <td>Civic Center/UN Plaza BART Station (Market St ...</td>\n",
       "      <td>37.781074</td>\n",
       "      <td>-122.411738</td>\n",
       "      <td>436.0</td>\n",
       "      <td>McKinnon Ave at 3rd St</td>\n",
       "      <td>37.736296</td>\n",
       "      <td>...</td>\n",
       "      <td>Customer</td>\n",
       "      <td>No</td>\n",
       "      <td>NaN</td>\n",
       "      <td>65.616667</td>\n",
       "      <td>1.093611</td>\n",
       "      <td>16</td>\n",
       "      <td>37.7810737,-122.4117382</td>\n",
       "      <td>37.736295872199996,-122.38996982569999</td>\n",
       "      <td>False</td>\n",
       "      <td>6</td>\n",
       "    </tr>\n",
       "  </tbody>\n",
       "</table>\n",
       "<p>5 rows × 22 columns</p>\n",
       "</div>"
      ],
      "text/plain": [
       "       duration_sec              start_time                  end_time  \\\n",
       "2209           3934 2020-01-31 13:50:07.339  2020-01-31 14:55:41.3650   \n",
       "6611           3927 2020-01-30 12:38:19.804  2020-01-30 13:43:47.7680   \n",
       "6613           3900 2020-01-30 12:38:27.666  2020-01-30 13:43:27.6880   \n",
       "18573          3930 2020-01-27 13:24:39.457  2020-01-27 14:30:10.3690   \n",
       "21014          3937 2020-01-26 16:36:55.071  2020-01-26 17:42:32.9020   \n",
       "\n",
       "       start_station_id                                 start_station_name  \\\n",
       "2209              160.0                          West Oakland BART Station   \n",
       "6611               15.0  San Francisco Ferry Building (Harry Bridges Pl...   \n",
       "6613               15.0  San Francisco Ferry Building (Harry Bridges Pl...   \n",
       "18573             164.0                       Isabella St at San Pablo Ave   \n",
       "21014              44.0  Civic Center/UN Plaza BART Station (Market St ...   \n",
       "\n",
       "       start_station_latitude  start_station_longitude  end_station_id  \\\n",
       "2209                37.805318              -122.294837           187.0   \n",
       "6611                37.795392              -122.394203             6.0   \n",
       "6613                37.795392              -122.394203             6.0   \n",
       "18573               37.814988              -122.274844           164.0   \n",
       "21014               37.781074              -122.411738           436.0   \n",
       "\n",
       "                    end_station_name  end_station_latitude  ...  user_type  \\\n",
       "2209              Jack London Square             37.796248  ...   Customer   \n",
       "6611   The Embarcadero at Sansome St             37.804770  ...   Customer   \n",
       "6613   The Embarcadero at Sansome St             37.804770  ...   Customer   \n",
       "18573   Isabella St at San Pablo Ave             37.814988  ...   Customer   \n",
       "21014         McKinnon Ave at 3rd St             37.736296  ...   Customer   \n",
       "\n",
       "       bike_share_for_all_trip rental_access_method duration_min duration_hr  \\\n",
       "2209                        No                  NaN    65.566667    1.092778   \n",
       "6611                        No                  NaN    65.450000    1.090833   \n",
       "6613                        No                  NaN    65.000000    1.083333   \n",
       "18573                       No                  NaN    65.500000    1.091667   \n",
       "21014                       No                  NaN    65.616667    1.093611   \n",
       "\n",
       "       start_hour                      start_combo  \\\n",
       "2209           13  37.805318299999996,-122.2948365   \n",
       "6611           12            37.795392,-122.394203   \n",
       "6613           12            37.795392,-122.394203   \n",
       "18573          13    37.8149882304,-122.2748440504   \n",
       "21014          16          37.7810737,-122.4117382   \n",
       "\n",
       "                                    end_combo return_trip week_day  \n",
       "2209                    37.796248,-122.279352       False        4  \n",
       "6611             37.80477,-122.40323400000001       False        3  \n",
       "6613             37.80477,-122.40323400000001       False        3  \n",
       "18573           37.8149882304,-122.2748440504        True        0  \n",
       "21014  37.736295872199996,-122.38996982569999       False        6  \n",
       "\n",
       "[5 rows x 22 columns]"
      ]
     },
     "execution_count": 79,
     "metadata": {},
     "output_type": "execute_result"
    }
   ],
   "source": [
    "odd_min_deep_df.head()"
   ]
  },
  {
   "cell_type": "code",
   "execution_count": 80,
   "metadata": {},
   "outputs": [
    {
     "data": {
      "text/plain": [
       "False    583\n",
       "True       6\n",
       "Name: return_trip, dtype: int64"
      ]
     },
     "execution_count": 80,
     "metadata": {},
     "output_type": "execute_result"
    }
   ],
   "source": [
    "odd_min_deep_df.return_trip.value_counts()"
   ]
  },
  {
   "cell_type": "markdown",
   "metadata": {},
   "source": [
    ">Just from looking at the counts of return trips in the *odd* group (rentals for approx between 65-66 minutes), it didn't seem like the *odd* group attributed to the higher average of duration of rental. "
   ]
  },
  {
   "cell_type": "code",
   "execution_count": 135,
   "metadata": {},
   "outputs": [
    {
     "data": {
      "text/plain": [
       "return_trip\n",
       "False    83.992285\n",
       "True     16.007715\n",
       "dtype: float64"
      ]
     },
     "execution_count": 135,
     "metadata": {},
     "output_type": "execute_result"
    }
   ],
   "source": [
    "#I want to see if this group of users always returned bike at the same location\n",
    "tripdata_cleaned[tripdata_cleaned.duration_min > 70].groupby('return_trip').size()*100/tripdata_cleaned[tripdata_cleaned.duration_min > 70].shape[0]"
   ]
  },
  {
   "cell_type": "code",
   "execution_count": 82,
   "metadata": {},
   "outputs": [
    {
     "data": {
      "text/plain": [
       "return_trip\n",
       "False    98.835332\n",
       "True      1.164668\n",
       "dtype: float64"
      ]
     },
     "execution_count": 82,
     "metadata": {},
     "output_type": "execute_result"
    }
   ],
   "source": [
    "tripdata_cleaned.groupby('return_trip').size()*100/tripdata_cleaned.shape[0]"
   ]
  },
  {
   "cell_type": "markdown",
   "metadata": {},
   "source": [
    ">The only explanation I could find is that ratio between same-depot and different-depot is largely different based on the rental duration. If we look at the full dataset, there are only 1.16% of users who returned the bike at the same depot, while that in the duration >70 min segment is 16%. "
   ]
  },
  {
   "cell_type": "markdown",
   "metadata": {},
   "source": [
    "#### Lastly, I want to quickly look at the **outlier_min** dataset which I created earlier. This dataset consists of data with duration minutes higher than 100 minutes.  "
   ]
  },
  {
   "cell_type": "code",
   "execution_count": 83,
   "metadata": {},
   "outputs": [
    {
     "data": {
      "text/plain": [
       "user_type\n",
       "Customer      81.212724\n",
       "Subscriber    18.787276\n",
       "dtype: float64"
      ]
     },
     "execution_count": 83,
     "metadata": {},
     "output_type": "execute_result"
    }
   ],
   "source": [
    "outlier_min.groupby('user_type').size()*100/outlier_min.shape[0]"
   ]
  },
  {
   "cell_type": "code",
   "execution_count": 84,
   "metadata": {},
   "outputs": [
    {
     "data": {
      "text/plain": [
       "user_type\n",
       "Customer      259.378131\n",
       "Subscriber    291.035362\n",
       "Name: duration_min, dtype: float64"
      ]
     },
     "execution_count": 84,
     "metadata": {},
     "output_type": "execute_result"
    }
   ],
   "source": [
    "outlier_min.groupby('user_type').mean()['duration_min']"
   ]
  },
  {
   "cell_type": "code",
   "execution_count": 85,
   "metadata": {},
   "outputs": [
    {
     "data": {
      "text/html": [
       "<div>\n",
       "<style scoped>\n",
       "    .dataframe tbody tr th:only-of-type {\n",
       "        vertical-align: middle;\n",
       "    }\n",
       "\n",
       "    .dataframe tbody tr th {\n",
       "        vertical-align: top;\n",
       "    }\n",
       "\n",
       "    .dataframe thead th {\n",
       "        text-align: right;\n",
       "    }\n",
       "</style>\n",
       "<table border=\"1\" class=\"dataframe\">\n",
       "  <thead>\n",
       "    <tr style=\"text-align: right;\">\n",
       "      <th></th>\n",
       "      <th>duration_sec</th>\n",
       "      <th>start_time</th>\n",
       "      <th>end_time</th>\n",
       "      <th>start_station_id</th>\n",
       "      <th>start_station_name</th>\n",
       "      <th>start_station_latitude</th>\n",
       "      <th>start_station_longitude</th>\n",
       "      <th>end_station_id</th>\n",
       "      <th>end_station_name</th>\n",
       "      <th>end_station_latitude</th>\n",
       "      <th>end_station_longitude</th>\n",
       "      <th>bike_id</th>\n",
       "      <th>user_type</th>\n",
       "      <th>bike_share_for_all_trip</th>\n",
       "      <th>rental_access_method</th>\n",
       "      <th>duration_min</th>\n",
       "      <th>duration_hr</th>\n",
       "    </tr>\n",
       "  </thead>\n",
       "  <tbody>\n",
       "    <tr>\n",
       "      <th>121168</th>\n",
       "      <td>811077</td>\n",
       "      <td>2020-01-09 16:23:21</td>\n",
       "      <td>2020-01-19 01:41:19</td>\n",
       "      <td>NaN</td>\n",
       "      <td>NaN</td>\n",
       "      <td>37.336035</td>\n",
       "      <td>-121.899836</td>\n",
       "      <td>NaN</td>\n",
       "      <td>NaN</td>\n",
       "      <td>37.336549</td>\n",
       "      <td>-121.900961</td>\n",
       "      <td>231296</td>\n",
       "      <td>Subscriber</td>\n",
       "      <td>NaN</td>\n",
       "      <td>clipper</td>\n",
       "      <td>13517.950000</td>\n",
       "      <td>225.299167</td>\n",
       "    </tr>\n",
       "    <tr>\n",
       "      <th>49926</th>\n",
       "      <td>86221</td>\n",
       "      <td>2020-01-16 07:51:37.7090</td>\n",
       "      <td>2020-01-17 07:48:39.5150</td>\n",
       "      <td>417.0</td>\n",
       "      <td>Park Ave at Race St</td>\n",
       "      <td>37.326011</td>\n",
       "      <td>-121.912327</td>\n",
       "      <td>417.0</td>\n",
       "      <td>Park Ave at Race St</td>\n",
       "      <td>37.326011</td>\n",
       "      <td>-121.912327</td>\n",
       "      <td>10424</td>\n",
       "      <td>Customer</td>\n",
       "      <td>No</td>\n",
       "      <td>NaN</td>\n",
       "      <td>1437.016667</td>\n",
       "      <td>23.950278</td>\n",
       "    </tr>\n",
       "    <tr>\n",
       "      <th>63677</th>\n",
       "      <td>85994</td>\n",
       "      <td>2020-01-12 17:08:54.1100</td>\n",
       "      <td>2020-01-13 17:02:08.5300</td>\n",
       "      <td>284.0</td>\n",
       "      <td>Yerba Buena Center for the Arts (Howard St at ...</td>\n",
       "      <td>37.784872</td>\n",
       "      <td>-122.400876</td>\n",
       "      <td>47.0</td>\n",
       "      <td>4th St at Harrison St</td>\n",
       "      <td>37.780955</td>\n",
       "      <td>-122.399749</td>\n",
       "      <td>11107</td>\n",
       "      <td>Customer</td>\n",
       "      <td>No</td>\n",
       "      <td>NaN</td>\n",
       "      <td>1433.233333</td>\n",
       "      <td>23.887222</td>\n",
       "    </tr>\n",
       "    <tr>\n",
       "      <th>27024</th>\n",
       "      <td>85450</td>\n",
       "      <td>2020-01-23 14:29:54.6580</td>\n",
       "      <td>2020-01-24 14:14:05.0000</td>\n",
       "      <td>14.0</td>\n",
       "      <td>Clay St at Battery St</td>\n",
       "      <td>37.795001</td>\n",
       "      <td>-122.399970</td>\n",
       "      <td>11.0</td>\n",
       "      <td>Davis St at Jackson St</td>\n",
       "      <td>37.797280</td>\n",
       "      <td>-122.398436</td>\n",
       "      <td>13072</td>\n",
       "      <td>Subscriber</td>\n",
       "      <td>No</td>\n",
       "      <td>NaN</td>\n",
       "      <td>1424.166667</td>\n",
       "      <td>23.736111</td>\n",
       "    </tr>\n",
       "    <tr>\n",
       "      <th>50984</th>\n",
       "      <td>85268</td>\n",
       "      <td>2020-01-15 18:13:47.2190</td>\n",
       "      <td>2020-01-16 17:54:55.2520</td>\n",
       "      <td>258.0</td>\n",
       "      <td>University Ave at Oxford St</td>\n",
       "      <td>37.872355</td>\n",
       "      <td>-122.266447</td>\n",
       "      <td>210.0</td>\n",
       "      <td>45th St at Manila</td>\n",
       "      <td>37.833294</td>\n",
       "      <td>-122.256224</td>\n",
       "      <td>1930</td>\n",
       "      <td>Customer</td>\n",
       "      <td>No</td>\n",
       "      <td>NaN</td>\n",
       "      <td>1421.133333</td>\n",
       "      <td>23.685556</td>\n",
       "    </tr>\n",
       "  </tbody>\n",
       "</table>\n",
       "</div>"
      ],
      "text/plain": [
       "        duration_sec                start_time                  end_time  \\\n",
       "121168        811077       2020-01-09 16:23:21       2020-01-19 01:41:19   \n",
       "49926          86221  2020-01-16 07:51:37.7090  2020-01-17 07:48:39.5150   \n",
       "63677          85994  2020-01-12 17:08:54.1100  2020-01-13 17:02:08.5300   \n",
       "27024          85450  2020-01-23 14:29:54.6580  2020-01-24 14:14:05.0000   \n",
       "50984          85268  2020-01-15 18:13:47.2190  2020-01-16 17:54:55.2520   \n",
       "\n",
       "        start_station_id                                 start_station_name  \\\n",
       "121168               NaN                                                NaN   \n",
       "49926              417.0                                Park Ave at Race St   \n",
       "63677              284.0  Yerba Buena Center for the Arts (Howard St at ...   \n",
       "27024               14.0                              Clay St at Battery St   \n",
       "50984              258.0                        University Ave at Oxford St   \n",
       "\n",
       "        start_station_latitude  start_station_longitude  end_station_id  \\\n",
       "121168               37.336035              -121.899836             NaN   \n",
       "49926                37.326011              -121.912327           417.0   \n",
       "63677                37.784872              -122.400876            47.0   \n",
       "27024                37.795001              -122.399970            11.0   \n",
       "50984                37.872355              -122.266447           210.0   \n",
       "\n",
       "              end_station_name  end_station_latitude  end_station_longitude  \\\n",
       "121168                     NaN             37.336549            -121.900961   \n",
       "49926      Park Ave at Race St             37.326011            -121.912327   \n",
       "63677    4th St at Harrison St             37.780955            -122.399749   \n",
       "27024   Davis St at Jackson St             37.797280            -122.398436   \n",
       "50984        45th St at Manila             37.833294            -122.256224   \n",
       "\n",
       "        bike_id   user_type bike_share_for_all_trip rental_access_method  \\\n",
       "121168   231296  Subscriber                     NaN              clipper   \n",
       "49926     10424    Customer                      No                  NaN   \n",
       "63677     11107    Customer                      No                  NaN   \n",
       "27024     13072  Subscriber                      No                  NaN   \n",
       "50984      1930    Customer                      No                  NaN   \n",
       "\n",
       "        duration_min  duration_hr  \n",
       "121168  13517.950000   225.299167  \n",
       "49926    1437.016667    23.950278  \n",
       "63677    1433.233333    23.887222  \n",
       "27024    1424.166667    23.736111  \n",
       "50984    1421.133333    23.685556  "
      ]
     },
     "execution_count": 85,
     "metadata": {},
     "output_type": "execute_result"
    }
   ],
   "source": [
    "outlier_min.sort_values(['duration_min'],ascending = False).head()"
   ]
  },
  {
   "cell_type": "markdown",
   "metadata": {},
   "source": [
    ">For a quick glance at the data, it looks like proportionally there were a lot more casual customers in the outlier group. Row 121168 is likely to be an error since this user rented the bike for about 10 days. "
   ]
  },
  {
   "cell_type": "markdown",
   "metadata": {},
   "source": [
    "### Relationships  observed in this part of the investigation - features that strengthened each other in terms of looking at feature(s) of interest?\n",
    "\n",
    "I extended my investigation of duration (minutes) against categorical features by measuring the effect of average duration against start hour, week day, return depot and user type. The multivatirate exploration above showed that there was a positive effect of the return depot - users who returned the bike at the same depot had a longer rental duration. This effect became more obvious and a trend could be observed when an additional categorical variable *week day* was added in the analysis: the average duration of rental for users who returned bike at the same depot was consistently longer throughtout the week. \n",
    "\n",
    "When looking at the general statistics of user type in my initial univariate analysis, I couldn't find anything particularly interesting. However, once I used a point plot to analyse the average duration by week day and user type, an interesting user behavioural trend could be brought to light - casual customers hired bikes for a longer time on average on Friday and Saturday. \n",
    "\n",
    "### Were there any interesting or surprising interactions between features?\n",
    "\n",
    "When looking at the scatter plot showing relationship between start hour and duration (min), a group of users were constantly renting bikes for about 66 minutes at different hours thoroughout the day. I extended by investigation to analyse this group of users using different dimensions but due to lacking customer information (such as customer id), it was hard to draw any conclusions to explain this odd group of users. "
   ]
  }
 ],
 "metadata": {
  "kernelspec": {
   "display_name": "Python 3",
   "language": "python",
   "name": "python3"
  },
  "language_info": {
   "codemirror_mode": {
    "name": "ipython",
    "version": 3
   },
   "file_extension": ".py",
   "mimetype": "text/x-python",
   "name": "python",
   "nbconvert_exporter": "python",
   "pygments_lexer": "ipython3",
   "version": "3.7.3"
  }
 },
 "nbformat": 4,
 "nbformat_minor": 2
}
